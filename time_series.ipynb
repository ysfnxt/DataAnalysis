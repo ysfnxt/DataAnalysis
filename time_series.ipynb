{
 "cells": [
  {
   "cell_type": "code",
   "execution_count": 12,
   "id": "5800ad7d-39c8-430c-ae6f-bac762b722f4",
   "metadata": {
    "execution": {
     "iopub.execute_input": "2023-06-02T03:49:48.125544Z",
     "iopub.status.busy": "2023-06-02T03:49:48.125544Z",
     "iopub.status.idle": "2023-06-02T03:49:48.136971Z",
     "shell.execute_reply": "2023-06-02T03:49:48.136971Z",
     "shell.execute_reply.started": "2023-06-02T03:49:48.125544Z"
    }
   },
   "outputs": [],
   "source": [
    "import pandas as pd\n",
    "import numpy as np"
   ]
  },
  {
   "cell_type": "code",
   "execution_count": 13,
   "id": "776ef02f-5283-409e-bc47-5153466b772d",
   "metadata": {
    "execution": {
     "iopub.execute_input": "2023-06-02T03:49:48.595409Z",
     "iopub.status.busy": "2023-06-02T03:49:48.595409Z",
     "iopub.status.idle": "2023-06-02T03:49:48.600557Z",
     "shell.execute_reply": "2023-06-02T03:49:48.600557Z",
     "shell.execute_reply.started": "2023-06-02T03:49:48.595409Z"
    }
   },
   "outputs": [],
   "source": [
    "rng = pd.date_range(\"6/1/2023\", periods=30, freq=\"D\")"
   ]
  },
  {
   "cell_type": "code",
   "execution_count": 14,
   "id": "6ee31f8a-2d6d-441e-8b62-274b15a1da5f",
   "metadata": {
    "execution": {
     "iopub.execute_input": "2023-06-02T03:49:49.011735Z",
     "iopub.status.busy": "2023-06-02T03:49:49.011735Z",
     "iopub.status.idle": "2023-06-02T03:49:49.018208Z",
     "shell.execute_reply": "2023-06-02T03:49:49.018208Z",
     "shell.execute_reply.started": "2023-06-02T03:49:49.011735Z"
    }
   },
   "outputs": [
    {
     "data": {
      "text/plain": [
       "DatetimeIndex(['2023-06-01', '2023-06-02', '2023-06-03', '2023-06-04',\n",
       "               '2023-06-05', '2023-06-06', '2023-06-07', '2023-06-08',\n",
       "               '2023-06-09', '2023-06-10', '2023-06-11', '2023-06-12',\n",
       "               '2023-06-13', '2023-06-14', '2023-06-15', '2023-06-16',\n",
       "               '2023-06-17', '2023-06-18', '2023-06-19', '2023-06-20',\n",
       "               '2023-06-21', '2023-06-22', '2023-06-23', '2023-06-24',\n",
       "               '2023-06-25', '2023-06-26', '2023-06-27', '2023-06-28',\n",
       "               '2023-06-29', '2023-06-30'],\n",
       "              dtype='datetime64[ns]', freq='D')"
      ]
     },
     "execution_count": 14,
     "metadata": {},
     "output_type": "execute_result"
    }
   ],
   "source": [
    "rng"
   ]
  },
  {
   "cell_type": "code",
   "execution_count": 15,
   "id": "378f2dab-4c6a-433d-b14d-c59e5518c9e5",
   "metadata": {
    "execution": {
     "iopub.execute_input": "2023-06-02T03:49:49.528525Z",
     "iopub.status.busy": "2023-06-02T03:49:49.528525Z",
     "iopub.status.idle": "2023-06-02T03:49:49.545643Z",
     "shell.execute_reply": "2023-06-02T03:49:49.545643Z",
     "shell.execute_reply.started": "2023-06-02T03:49:49.528525Z"
    }
   },
   "outputs": [],
   "source": [
    "ts = pd.Series(np.random.randint(0, 500, len(rng)), index=rng)"
   ]
  },
  {
   "cell_type": "code",
   "execution_count": 16,
   "id": "5cc32fcd-cb8d-4ec5-ae4e-03e5a1cc3238",
   "metadata": {
    "execution": {
     "iopub.execute_input": "2023-06-02T03:49:51.934789Z",
     "iopub.status.busy": "2023-06-02T03:49:51.934789Z",
     "iopub.status.idle": "2023-06-02T03:49:51.955741Z",
     "shell.execute_reply": "2023-06-02T03:49:51.955741Z",
     "shell.execute_reply.started": "2023-06-02T03:49:51.934789Z"
    }
   },
   "outputs": [
    {
     "data": {
      "text/plain": [
       "2023-06-01     25\n",
       "2023-06-02    445\n",
       "2023-06-03    107\n",
       "2023-06-04    354\n",
       "2023-06-05    254\n",
       "2023-06-06    383\n",
       "2023-06-07    206\n",
       "2023-06-08    346\n",
       "2023-06-09    401\n",
       "2023-06-10     80\n",
       "2023-06-11    102\n",
       "2023-06-12    110\n",
       "2023-06-13    106\n",
       "2023-06-14    306\n",
       "2023-06-15    298\n",
       "2023-06-16    375\n",
       "2023-06-17    142\n",
       "2023-06-18    227\n",
       "2023-06-19     37\n",
       "2023-06-20     44\n",
       "2023-06-21     14\n",
       "2023-06-22    181\n",
       "2023-06-23    214\n",
       "2023-06-24    260\n",
       "2023-06-25     10\n",
       "2023-06-26    158\n",
       "2023-06-27    304\n",
       "2023-06-28     14\n",
       "2023-06-29    170\n",
       "2023-06-30     60\n",
       "Freq: D, dtype: int32"
      ]
     },
     "execution_count": 16,
     "metadata": {},
     "output_type": "execute_result"
    }
   ],
   "source": [
    "ts"
   ]
  },
  {
   "cell_type": "code",
   "execution_count": 21,
   "id": "face9187-515f-4ace-a583-d17fdc5c4441",
   "metadata": {
    "execution": {
     "iopub.execute_input": "2023-06-02T03:51:06.068794Z",
     "iopub.status.busy": "2023-06-02T03:51:06.068794Z",
     "iopub.status.idle": "2023-06-02T03:51:06.083951Z",
     "shell.execute_reply": "2023-06-02T03:51:06.083951Z",
     "shell.execute_reply.started": "2023-06-02T03:51:06.068794Z"
    }
   },
   "outputs": [
    {
     "data": {
      "text/plain": [
       "2023-06-01    470\n",
       "2023-06-03    461\n",
       "2023-06-05    637\n",
       "2023-06-07    552\n",
       "2023-06-09    481\n",
       "2023-06-11    212\n",
       "2023-06-13    412\n",
       "2023-06-15    673\n",
       "2023-06-17    369\n",
       "2023-06-19     81\n",
       "2023-06-21    195\n",
       "2023-06-23    474\n",
       "2023-06-25    168\n",
       "2023-06-27    318\n",
       "2023-06-29    230\n",
       "Freq: 2D, dtype: int32"
      ]
     },
     "execution_count": 21,
     "metadata": {},
     "output_type": "execute_result"
    }
   ],
   "source": [
    "# Sum of Two Time Samples\n",
    "ts.resample(\"2D\").sum()"
   ]
  },
  {
   "cell_type": "code",
   "execution_count": 23,
   "id": "09febfc8-efd4-4f20-8efb-79b88f5876d9",
   "metadata": {
    "execution": {
     "iopub.execute_input": "2023-06-02T03:52:50.501212Z",
     "iopub.status.busy": "2023-06-02T03:52:50.501212Z",
     "iopub.status.idle": "2023-06-02T03:52:50.671108Z",
     "shell.execute_reply": "2023-06-02T03:52:50.671108Z",
     "shell.execute_reply.started": "2023-06-02T03:52:50.501212Z"
    }
   },
   "outputs": [],
   "source": [
    "# Localize time \n",
    "rng1 = pd.date_range(\"3/6/2023 00:00\", periods=5, freq=\"D\")"
   ]
  },
  {
   "cell_type": "code",
   "execution_count": 24,
   "id": "b4ad6c9a-4f4e-48c6-ac20-260a0ec9c83e",
   "metadata": {
    "execution": {
     "iopub.execute_input": "2023-06-02T03:52:53.570054Z",
     "iopub.status.busy": "2023-06-02T03:52:53.570054Z",
     "iopub.status.idle": "2023-06-02T03:52:53.581182Z",
     "shell.execute_reply": "2023-06-02T03:52:53.581182Z",
     "shell.execute_reply.started": "2023-06-02T03:52:53.570054Z"
    }
   },
   "outputs": [
    {
     "data": {
      "text/plain": [
       "DatetimeIndex(['2023-03-06', '2023-03-07', '2023-03-08', '2023-03-09',\n",
       "               '2023-03-10'],\n",
       "              dtype='datetime64[ns]', freq='D')"
      ]
     },
     "execution_count": 24,
     "metadata": {},
     "output_type": "execute_result"
    }
   ],
   "source": [
    "rng1"
   ]
  },
  {
   "cell_type": "code",
   "execution_count": 26,
   "id": "735fdab1-51f5-44ef-9807-c1cb3ed59628",
   "metadata": {
    "execution": {
     "iopub.execute_input": "2023-06-02T03:53:25.652337Z",
     "iopub.status.busy": "2023-06-02T03:53:25.652337Z",
     "iopub.status.idle": "2023-06-02T03:53:25.661771Z",
     "shell.execute_reply": "2023-06-02T03:53:25.661771Z",
     "shell.execute_reply.started": "2023-06-02T03:53:25.652337Z"
    }
   },
   "outputs": [],
   "source": [
    "ts1 = pd.Series(np.random.randn(len(rng1)), rng1)"
   ]
  },
  {
   "cell_type": "code",
   "execution_count": 27,
   "id": "9927069e-f061-492f-b7e9-555de054e5d3",
   "metadata": {
    "execution": {
     "iopub.execute_input": "2023-06-02T03:53:28.744612Z",
     "iopub.status.busy": "2023-06-02T03:53:28.744612Z",
     "iopub.status.idle": "2023-06-02T03:53:28.759283Z",
     "shell.execute_reply": "2023-06-02T03:53:28.759283Z",
     "shell.execute_reply.started": "2023-06-02T03:53:28.744612Z"
    }
   },
   "outputs": [
    {
     "data": {
      "text/plain": [
       "2023-03-06   -2.433612\n",
       "2023-03-07    2.149433\n",
       "2023-03-08    0.226549\n",
       "2023-03-09    0.897579\n",
       "2023-03-10   -0.767882\n",
       "Freq: D, dtype: float64"
      ]
     },
     "execution_count": 27,
     "metadata": {},
     "output_type": "execute_result"
    }
   ],
   "source": [
    "ts1"
   ]
  },
  {
   "cell_type": "code",
   "execution_count": 28,
   "id": "10bf0965-cdb9-4179-846f-ec32bd68d0d3",
   "metadata": {
    "execution": {
     "iopub.execute_input": "2023-06-02T03:53:53.794746Z",
     "iopub.status.busy": "2023-06-02T03:53:53.794746Z",
     "iopub.status.idle": "2023-06-02T03:53:53.814089Z",
     "shell.execute_reply": "2023-06-02T03:53:53.814089Z",
     "shell.execute_reply.started": "2023-06-02T03:53:53.794746Z"
    }
   },
   "outputs": [],
   "source": [
    "ts_utc = ts1.tz_localize(\"UTC\")"
   ]
  },
  {
   "cell_type": "code",
   "execution_count": 29,
   "id": "78199f9e-c5b0-40c7-83e8-7ae69a628a22",
   "metadata": {
    "execution": {
     "iopub.execute_input": "2023-06-02T03:53:59.609531Z",
     "iopub.status.busy": "2023-06-02T03:53:59.609531Z",
     "iopub.status.idle": "2023-06-02T03:53:59.620457Z",
     "shell.execute_reply": "2023-06-02T03:53:59.620457Z",
     "shell.execute_reply.started": "2023-06-02T03:53:59.609531Z"
    }
   },
   "outputs": [
    {
     "data": {
      "text/plain": [
       "2023-03-06 00:00:00+00:00   -2.433612\n",
       "2023-03-07 00:00:00+00:00    2.149433\n",
       "2023-03-08 00:00:00+00:00    0.226549\n",
       "2023-03-09 00:00:00+00:00    0.897579\n",
       "2023-03-10 00:00:00+00:00   -0.767882\n",
       "Freq: D, dtype: float64"
      ]
     },
     "execution_count": 29,
     "metadata": {},
     "output_type": "execute_result"
    }
   ],
   "source": [
    "ts_utc"
   ]
  },
  {
   "cell_type": "code",
   "execution_count": 31,
   "id": "2c0d64ce-a9d5-44c9-a4eb-33c3727560cc",
   "metadata": {
    "execution": {
     "iopub.execute_input": "2023-06-02T03:54:45.793621Z",
     "iopub.status.busy": "2023-06-02T03:54:45.793621Z",
     "iopub.status.idle": "2023-06-02T03:54:45.798745Z",
     "shell.execute_reply": "2023-06-02T03:54:45.798745Z",
     "shell.execute_reply.started": "2023-06-02T03:54:45.793621Z"
    }
   },
   "outputs": [
    {
     "data": {
      "text/plain": [
       "2023-03-06 05:30:00+05:30   -2.433612\n",
       "2023-03-07 05:30:00+05:30    2.149433\n",
       "2023-03-08 05:30:00+05:30    0.226549\n",
       "2023-03-09 05:30:00+05:30    0.897579\n",
       "2023-03-10 05:30:00+05:30   -0.767882\n",
       "Freq: D, dtype: float64"
      ]
     },
     "execution_count": 31,
     "metadata": {},
     "output_type": "execute_result"
    }
   ],
   "source": [
    "# converts a timezones aware time series to another time zone:\n",
    "ts_utc.tz_convert(\"Asia/Kolkata\")"
   ]
  },
  {
   "cell_type": "code",
   "execution_count": null,
   "id": "6750adca-6f97-4c7f-9da2-1cafb42d5622",
   "metadata": {},
   "outputs": [],
   "source": []
  }
 ],
 "metadata": {
  "kernelspec": {
   "display_name": "Python 3 (ipykernel)",
   "language": "python",
   "name": "python3"
  },
  "language_info": {
   "codemirror_mode": {
    "name": "ipython",
    "version": 3
   },
   "file_extension": ".py",
   "mimetype": "text/x-python",
   "name": "python",
   "nbconvert_exporter": "python",
   "pygments_lexer": "ipython3",
   "version": "3.11.3"
  }
 },
 "nbformat": 4,
 "nbformat_minor": 5
}
