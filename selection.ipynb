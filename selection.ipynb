{
 "cells": [
  {
   "cell_type": "code",
   "execution_count": 1,
   "id": "0c3d673b-0ae9-49b0-8a33-3acc8e399818",
   "metadata": {
    "execution": {
     "iopub.execute_input": "2023-06-01T06:11:43.707918Z",
     "iopub.status.busy": "2023-06-01T06:11:43.707918Z",
     "iopub.status.idle": "2023-06-01T06:11:44.078293Z",
     "shell.execute_reply": "2023-06-01T06:11:44.078293Z",
     "shell.execute_reply.started": "2023-06-01T06:11:43.707918Z"
    }
   },
   "outputs": [],
   "source": [
    "import pandas as pd \n",
    "import numpy as np"
   ]
  },
  {
   "cell_type": "code",
   "execution_count": 2,
   "id": "2c6c474c-f57c-4194-9977-bf20ae87960c",
   "metadata": {
    "execution": {
     "iopub.execute_input": "2023-06-01T06:12:28.873517Z",
     "iopub.status.busy": "2023-06-01T06:12:28.871495Z",
     "iopub.status.idle": "2023-06-01T06:12:28.876931Z",
     "shell.execute_reply": "2023-06-01T06:12:28.876931Z",
     "shell.execute_reply.started": "2023-06-01T06:12:28.873517Z"
    }
   },
   "outputs": [],
   "source": [
    "dates = pd.date_range(\"20130101\", periods=6)\n",
    "df = pd.DataFrame(np.random.randn(6, 4), index=dates, columns=list(\"ABCD\"))"
   ]
  },
  {
   "cell_type": "code",
   "execution_count": 3,
   "id": "759f2ad8-f57d-4f60-b8d7-4732d10cad85",
   "metadata": {
    "execution": {
     "iopub.execute_input": "2023-06-01T06:12:30.462985Z",
     "iopub.status.busy": "2023-06-01T06:12:30.462985Z",
     "iopub.status.idle": "2023-06-01T06:12:30.473514Z",
     "shell.execute_reply": "2023-06-01T06:12:30.473514Z",
     "shell.execute_reply.started": "2023-06-01T06:12:30.462985Z"
    }
   },
   "outputs": [
    {
     "data": {
      "text/html": [
       "<div>\n",
       "<style scoped>\n",
       "    .dataframe tbody tr th:only-of-type {\n",
       "        vertical-align: middle;\n",
       "    }\n",
       "\n",
       "    .dataframe tbody tr th {\n",
       "        vertical-align: top;\n",
       "    }\n",
       "\n",
       "    .dataframe thead th {\n",
       "        text-align: right;\n",
       "    }\n",
       "</style>\n",
       "<table border=\"1\" class=\"dataframe\">\n",
       "  <thead>\n",
       "    <tr style=\"text-align: right;\">\n",
       "      <th></th>\n",
       "      <th>A</th>\n",
       "      <th>B</th>\n",
       "      <th>C</th>\n",
       "      <th>D</th>\n",
       "    </tr>\n",
       "  </thead>\n",
       "  <tbody>\n",
       "    <tr>\n",
       "      <th>2013-01-01</th>\n",
       "      <td>0.611782</td>\n",
       "      <td>-1.007804</td>\n",
       "      <td>0.602795</td>\n",
       "      <td>0.418030</td>\n",
       "    </tr>\n",
       "    <tr>\n",
       "      <th>2013-01-02</th>\n",
       "      <td>-1.509317</td>\n",
       "      <td>0.848363</td>\n",
       "      <td>0.212078</td>\n",
       "      <td>0.108143</td>\n",
       "    </tr>\n",
       "    <tr>\n",
       "      <th>2013-01-03</th>\n",
       "      <td>0.312468</td>\n",
       "      <td>1.238899</td>\n",
       "      <td>-0.968888</td>\n",
       "      <td>-1.273762</td>\n",
       "    </tr>\n",
       "    <tr>\n",
       "      <th>2013-01-04</th>\n",
       "      <td>-1.386591</td>\n",
       "      <td>-0.786737</td>\n",
       "      <td>1.646185</td>\n",
       "      <td>0.585483</td>\n",
       "    </tr>\n",
       "    <tr>\n",
       "      <th>2013-01-05</th>\n",
       "      <td>0.674999</td>\n",
       "      <td>-1.069760</td>\n",
       "      <td>0.334548</td>\n",
       "      <td>0.803330</td>\n",
       "    </tr>\n",
       "    <tr>\n",
       "      <th>2013-01-06</th>\n",
       "      <td>-0.013959</td>\n",
       "      <td>-0.159941</td>\n",
       "      <td>-0.643591</td>\n",
       "      <td>-1.052878</td>\n",
       "    </tr>\n",
       "  </tbody>\n",
       "</table>\n",
       "</div>"
      ],
      "text/plain": [
       "                   A         B         C         D\n",
       "2013-01-01  0.611782 -1.007804  0.602795  0.418030\n",
       "2013-01-02 -1.509317  0.848363  0.212078  0.108143\n",
       "2013-01-03  0.312468  1.238899 -0.968888 -1.273762\n",
       "2013-01-04 -1.386591 -0.786737  1.646185  0.585483\n",
       "2013-01-05  0.674999 -1.069760  0.334548  0.803330\n",
       "2013-01-06 -0.013959 -0.159941 -0.643591 -1.052878"
      ]
     },
     "execution_count": 3,
     "metadata": {},
     "output_type": "execute_result"
    }
   ],
   "source": [
    "df"
   ]
  },
  {
   "cell_type": "code",
   "execution_count": 4,
   "id": "121edfd4-cdd2-4693-90fa-53c66b2fb7a8",
   "metadata": {
    "execution": {
     "iopub.execute_input": "2023-06-01T06:13:05.167786Z",
     "iopub.status.busy": "2023-06-01T06:13:05.159774Z",
     "iopub.status.idle": "2023-06-01T06:13:05.171618Z",
     "shell.execute_reply": "2023-06-01T06:13:05.171618Z",
     "shell.execute_reply.started": "2023-06-01T06:13:05.167786Z"
    }
   },
   "outputs": [
    {
     "data": {
      "text/plain": [
       "2013-01-01   -1.007804\n",
       "2013-01-02    0.848363\n",
       "2013-01-03    1.238899\n",
       "2013-01-04   -0.786737\n",
       "2013-01-05   -1.069760\n",
       "2013-01-06   -0.159941\n",
       "Freq: D, Name: B, dtype: float64"
      ]
     },
     "execution_count": 4,
     "metadata": {},
     "output_type": "execute_result"
    }
   ],
   "source": [
    "# Selecting a single column\n",
    "\n",
    "df[\"B\"]"
   ]
  },
  {
   "cell_type": "code",
   "execution_count": 5,
   "id": "80e2012b-77e2-4386-be96-48baa0dccfd4",
   "metadata": {
    "execution": {
     "iopub.execute_input": "2023-06-01T06:13:46.958124Z",
     "iopub.status.busy": "2023-06-01T06:13:46.958124Z",
     "iopub.status.idle": "2023-06-01T06:13:46.966173Z",
     "shell.execute_reply": "2023-06-01T06:13:46.966173Z",
     "shell.execute_reply.started": "2023-06-01T06:13:46.958124Z"
    }
   },
   "outputs": [
    {
     "data": {
      "text/html": [
       "<div>\n",
       "<style scoped>\n",
       "    .dataframe tbody tr th:only-of-type {\n",
       "        vertical-align: middle;\n",
       "    }\n",
       "\n",
       "    .dataframe tbody tr th {\n",
       "        vertical-align: top;\n",
       "    }\n",
       "\n",
       "    .dataframe thead th {\n",
       "        text-align: right;\n",
       "    }\n",
       "</style>\n",
       "<table border=\"1\" class=\"dataframe\">\n",
       "  <thead>\n",
       "    <tr style=\"text-align: right;\">\n",
       "      <th></th>\n",
       "      <th>A</th>\n",
       "      <th>B</th>\n",
       "      <th>C</th>\n",
       "      <th>D</th>\n",
       "    </tr>\n",
       "  </thead>\n",
       "  <tbody>\n",
       "    <tr>\n",
       "      <th>2013-01-01</th>\n",
       "      <td>0.611782</td>\n",
       "      <td>-1.007804</td>\n",
       "      <td>0.602795</td>\n",
       "      <td>0.418030</td>\n",
       "    </tr>\n",
       "    <tr>\n",
       "      <th>2013-01-02</th>\n",
       "      <td>-1.509317</td>\n",
       "      <td>0.848363</td>\n",
       "      <td>0.212078</td>\n",
       "      <td>0.108143</td>\n",
       "    </tr>\n",
       "    <tr>\n",
       "      <th>2013-01-03</th>\n",
       "      <td>0.312468</td>\n",
       "      <td>1.238899</td>\n",
       "      <td>-0.968888</td>\n",
       "      <td>-1.273762</td>\n",
       "    </tr>\n",
       "  </tbody>\n",
       "</table>\n",
       "</div>"
      ],
      "text/plain": [
       "                   A         B         C         D\n",
       "2013-01-01  0.611782 -1.007804  0.602795  0.418030\n",
       "2013-01-02 -1.509317  0.848363  0.212078  0.108143\n",
       "2013-01-03  0.312468  1.238899 -0.968888 -1.273762"
      ]
     },
     "execution_count": 5,
     "metadata": {},
     "output_type": "execute_result"
    }
   ],
   "source": [
    "# By Slicing \n",
    "df[0:3]"
   ]
  },
  {
   "cell_type": "code",
   "execution_count": 6,
   "id": "5ebe0ba6-e2dc-49ea-80ad-15cd142cba42",
   "metadata": {
    "execution": {
     "iopub.execute_input": "2023-06-01T06:14:36.165832Z",
     "iopub.status.busy": "2023-06-01T06:14:36.165800Z",
     "iopub.status.idle": "2023-06-01T06:14:36.169704Z",
     "shell.execute_reply": "2023-06-01T06:14:36.169704Z",
     "shell.execute_reply.started": "2023-06-01T06:14:36.165832Z"
    }
   },
   "outputs": [
    {
     "data": {
      "text/plain": [
       "A    0.611782\n",
       "B   -1.007804\n",
       "C    0.602795\n",
       "D    0.418030\n",
       "Name: 2013-01-01 00:00:00, dtype: float64"
      ]
     },
     "execution_count": 6,
     "metadata": {},
     "output_type": "execute_result"
    }
   ],
   "source": [
    "# getting a cross section using a label\n",
    "df.loc[dates[0]]"
   ]
  },
  {
   "cell_type": "code",
   "execution_count": 7,
   "id": "a4866e04-0308-4ea4-b523-64a2e24ee0ea",
   "metadata": {
    "execution": {
     "iopub.execute_input": "2023-06-01T06:14:49.110216Z",
     "iopub.status.busy": "2023-06-01T06:14:49.110216Z",
     "iopub.status.idle": "2023-06-01T06:14:49.119400Z",
     "shell.execute_reply": "2023-06-01T06:14:49.119400Z",
     "shell.execute_reply.started": "2023-06-01T06:14:49.110216Z"
    }
   },
   "outputs": [
    {
     "data": {
      "text/plain": [
       "DatetimeIndex(['2013-01-01', '2013-01-02', '2013-01-03', '2013-01-04',\n",
       "               '2013-01-05', '2013-01-06'],\n",
       "              dtype='datetime64[ns]', freq='D')"
      ]
     },
     "execution_count": 7,
     "metadata": {},
     "output_type": "execute_result"
    }
   ],
   "source": [
    "dates"
   ]
  },
  {
   "cell_type": "code",
   "execution_count": 8,
   "id": "82a7d126-c5d8-4b15-a26d-0f64ddb39d81",
   "metadata": {
    "execution": {
     "iopub.execute_input": "2023-06-01T06:15:39.643444Z",
     "iopub.status.busy": "2023-06-01T06:15:39.643444Z",
     "iopub.status.idle": "2023-06-01T06:15:39.650162Z",
     "shell.execute_reply": "2023-06-01T06:15:39.650162Z",
     "shell.execute_reply.started": "2023-06-01T06:15:39.643444Z"
    }
   },
   "outputs": [
    {
     "data": {
      "text/html": [
       "<div>\n",
       "<style scoped>\n",
       "    .dataframe tbody tr th:only-of-type {\n",
       "        vertical-align: middle;\n",
       "    }\n",
       "\n",
       "    .dataframe tbody tr th {\n",
       "        vertical-align: top;\n",
       "    }\n",
       "\n",
       "    .dataframe thead th {\n",
       "        text-align: right;\n",
       "    }\n",
       "</style>\n",
       "<table border=\"1\" class=\"dataframe\">\n",
       "  <thead>\n",
       "    <tr style=\"text-align: right;\">\n",
       "      <th></th>\n",
       "      <th>A</th>\n",
       "      <th>B</th>\n",
       "    </tr>\n",
       "  </thead>\n",
       "  <tbody>\n",
       "    <tr>\n",
       "      <th>2013-01-01</th>\n",
       "      <td>0.611782</td>\n",
       "      <td>-1.007804</td>\n",
       "    </tr>\n",
       "    <tr>\n",
       "      <th>2013-01-02</th>\n",
       "      <td>-1.509317</td>\n",
       "      <td>0.848363</td>\n",
       "    </tr>\n",
       "    <tr>\n",
       "      <th>2013-01-03</th>\n",
       "      <td>0.312468</td>\n",
       "      <td>1.238899</td>\n",
       "    </tr>\n",
       "    <tr>\n",
       "      <th>2013-01-04</th>\n",
       "      <td>-1.386591</td>\n",
       "      <td>-0.786737</td>\n",
       "    </tr>\n",
       "    <tr>\n",
       "      <th>2013-01-05</th>\n",
       "      <td>0.674999</td>\n",
       "      <td>-1.069760</td>\n",
       "    </tr>\n",
       "    <tr>\n",
       "      <th>2013-01-06</th>\n",
       "      <td>-0.013959</td>\n",
       "      <td>-0.159941</td>\n",
       "    </tr>\n",
       "  </tbody>\n",
       "</table>\n",
       "</div>"
      ],
      "text/plain": [
       "                   A         B\n",
       "2013-01-01  0.611782 -1.007804\n",
       "2013-01-02 -1.509317  0.848363\n",
       "2013-01-03  0.312468  1.238899\n",
       "2013-01-04 -1.386591 -0.786737\n",
       "2013-01-05  0.674999 -1.069760\n",
       "2013-01-06 -0.013959 -0.159941"
      ]
     },
     "execution_count": 8,
     "metadata": {},
     "output_type": "execute_result"
    }
   ],
   "source": [
    "#  on a multi-axis by label\n",
    "df.loc[:, [\"A\", \"B\"]]"
   ]
  },
  {
   "cell_type": "code",
   "execution_count": 9,
   "id": "53d9510a-bfc1-441d-b9f3-9ee842d7c4e6",
   "metadata": {
    "execution": {
     "iopub.execute_input": "2023-06-01T06:17:11.646960Z",
     "iopub.status.busy": "2023-06-01T06:17:11.646960Z",
     "iopub.status.idle": "2023-06-01T06:17:11.657501Z",
     "shell.execute_reply": "2023-06-01T06:17:11.657501Z",
     "shell.execute_reply.started": "2023-06-01T06:17:11.646960Z"
    }
   },
   "outputs": [
    {
     "data": {
      "text/html": [
       "<div>\n",
       "<style scoped>\n",
       "    .dataframe tbody tr th:only-of-type {\n",
       "        vertical-align: middle;\n",
       "    }\n",
       "\n",
       "    .dataframe tbody tr th {\n",
       "        vertical-align: top;\n",
       "    }\n",
       "\n",
       "    .dataframe thead th {\n",
       "        text-align: right;\n",
       "    }\n",
       "</style>\n",
       "<table border=\"1\" class=\"dataframe\">\n",
       "  <thead>\n",
       "    <tr style=\"text-align: right;\">\n",
       "      <th></th>\n",
       "      <th>A</th>\n",
       "      <th>B</th>\n",
       "    </tr>\n",
       "  </thead>\n",
       "  <tbody>\n",
       "    <tr>\n",
       "      <th>2013-01-02</th>\n",
       "      <td>-1.509317</td>\n",
       "      <td>0.848363</td>\n",
       "    </tr>\n",
       "    <tr>\n",
       "      <th>2013-01-03</th>\n",
       "      <td>0.312468</td>\n",
       "      <td>1.238899</td>\n",
       "    </tr>\n",
       "    <tr>\n",
       "      <th>2013-01-04</th>\n",
       "      <td>-1.386591</td>\n",
       "      <td>-0.786737</td>\n",
       "    </tr>\n",
       "  </tbody>\n",
       "</table>\n",
       "</div>"
      ],
      "text/plain": [
       "                   A         B\n",
       "2013-01-02 -1.509317  0.848363\n",
       "2013-01-03  0.312468  1.238899\n",
       "2013-01-04 -1.386591 -0.786737"
      ]
     },
     "execution_count": 9,
     "metadata": {},
     "output_type": "execute_result"
    }
   ],
   "source": [
    "# Showing label slicing, both endpoints are included:\n",
    "df.loc[\"20130102\":\"20130104\", [\"A\", \"B\"]]"
   ]
  },
  {
   "cell_type": "code",
   "execution_count": 10,
   "id": "c8866891-9391-4fad-92cb-3a6c2fd555dc",
   "metadata": {
    "execution": {
     "iopub.execute_input": "2023-06-01T06:17:56.479006Z",
     "iopub.status.busy": "2023-06-01T06:17:56.479006Z",
     "iopub.status.idle": "2023-06-01T06:17:56.485228Z",
     "shell.execute_reply": "2023-06-01T06:17:56.485228Z",
     "shell.execute_reply.started": "2023-06-01T06:17:56.479006Z"
    }
   },
   "outputs": [
    {
     "data": {
      "text/plain": [
       "A   -1.386591\n",
       "B   -0.786737\n",
       "C    1.646185\n",
       "D    0.585483\n",
       "Name: 2013-01-04 00:00:00, dtype: float64"
      ]
     },
     "execution_count": 10,
     "metadata": {},
     "output_type": "execute_result"
    }
   ],
   "source": [
    "# Select via the position of the passed integers\n",
    "df.iloc[3]"
   ]
  },
  {
   "cell_type": "code",
   "execution_count": 11,
   "id": "714d2dae-6f6b-4a38-955c-61f4b585598a",
   "metadata": {
    "execution": {
     "iopub.execute_input": "2023-06-01T06:18:23.898485Z",
     "iopub.status.busy": "2023-06-01T06:18:23.898485Z",
     "iopub.status.idle": "2023-06-01T06:18:23.910028Z",
     "shell.execute_reply": "2023-06-01T06:18:23.910028Z",
     "shell.execute_reply.started": "2023-06-01T06:18:23.898485Z"
    }
   },
   "outputs": [
    {
     "data": {
      "text/html": [
       "<div>\n",
       "<style scoped>\n",
       "    .dataframe tbody tr th:only-of-type {\n",
       "        vertical-align: middle;\n",
       "    }\n",
       "\n",
       "    .dataframe tbody tr th {\n",
       "        vertical-align: top;\n",
       "    }\n",
       "\n",
       "    .dataframe thead th {\n",
       "        text-align: right;\n",
       "    }\n",
       "</style>\n",
       "<table border=\"1\" class=\"dataframe\">\n",
       "  <thead>\n",
       "    <tr style=\"text-align: right;\">\n",
       "      <th></th>\n",
       "      <th>A</th>\n",
       "      <th>B</th>\n",
       "    </tr>\n",
       "  </thead>\n",
       "  <tbody>\n",
       "    <tr>\n",
       "      <th>2013-01-04</th>\n",
       "      <td>-1.386591</td>\n",
       "      <td>-0.786737</td>\n",
       "    </tr>\n",
       "    <tr>\n",
       "      <th>2013-01-05</th>\n",
       "      <td>0.674999</td>\n",
       "      <td>-1.069760</td>\n",
       "    </tr>\n",
       "  </tbody>\n",
       "</table>\n",
       "</div>"
      ],
      "text/plain": [
       "                   A         B\n",
       "2013-01-04 -1.386591 -0.786737\n",
       "2013-01-05  0.674999 -1.069760"
      ]
     },
     "execution_count": 11,
     "metadata": {},
     "output_type": "execute_result"
    }
   ],
   "source": [
    "# Integer Slicing \n",
    "df.iloc[3:5, 0:2]"
   ]
  },
  {
   "cell_type": "code",
   "execution_count": 13,
   "id": "1c31935b-1d49-4e7a-b2b6-4bff40f2833d",
   "metadata": {
    "execution": {
     "iopub.execute_input": "2023-06-01T06:20:11.628742Z",
     "iopub.status.busy": "2023-06-01T06:20:11.628742Z",
     "iopub.status.idle": "2023-06-01T06:20:11.634171Z",
     "shell.execute_reply": "2023-06-01T06:20:11.634171Z",
     "shell.execute_reply.started": "2023-06-01T06:20:11.628742Z"
    }
   },
   "outputs": [
    {
     "data": {
      "text/plain": [
       "0.848363068133263"
      ]
     },
     "execution_count": 13,
     "metadata": {},
     "output_type": "execute_result"
    }
   ],
   "source": [
    "# For getting a value explicitly\n",
    "df.iloc[1,1]"
   ]
  },
  {
   "cell_type": "code",
   "execution_count": 14,
   "id": "27d3fcda-67f8-445a-85f0-0e765f23adff",
   "metadata": {
    "execution": {
     "iopub.execute_input": "2023-06-01T06:22:24.520596Z",
     "iopub.status.busy": "2023-06-01T06:22:24.520596Z",
     "iopub.status.idle": "2023-06-01T06:22:24.533598Z",
     "shell.execute_reply": "2023-06-01T06:22:24.533598Z",
     "shell.execute_reply.started": "2023-06-01T06:22:24.520596Z"
    }
   },
   "outputs": [
    {
     "data": {
      "text/html": [
       "<div>\n",
       "<style scoped>\n",
       "    .dataframe tbody tr th:only-of-type {\n",
       "        vertical-align: middle;\n",
       "    }\n",
       "\n",
       "    .dataframe tbody tr th {\n",
       "        vertical-align: top;\n",
       "    }\n",
       "\n",
       "    .dataframe thead th {\n",
       "        text-align: right;\n",
       "    }\n",
       "</style>\n",
       "<table border=\"1\" class=\"dataframe\">\n",
       "  <thead>\n",
       "    <tr style=\"text-align: right;\">\n",
       "      <th></th>\n",
       "      <th>A</th>\n",
       "      <th>B</th>\n",
       "      <th>C</th>\n",
       "      <th>D</th>\n",
       "      <th>E</th>\n",
       "    </tr>\n",
       "  </thead>\n",
       "  <tbody>\n",
       "    <tr>\n",
       "      <th>2013-01-03</th>\n",
       "      <td>0.312468</td>\n",
       "      <td>1.238899</td>\n",
       "      <td>-0.968888</td>\n",
       "      <td>-1.273762</td>\n",
       "      <td>two</td>\n",
       "    </tr>\n",
       "    <tr>\n",
       "      <th>2013-01-05</th>\n",
       "      <td>0.674999</td>\n",
       "      <td>-1.069760</td>\n",
       "      <td>0.334548</td>\n",
       "      <td>0.803330</td>\n",
       "      <td>four</td>\n",
       "    </tr>\n",
       "  </tbody>\n",
       "</table>\n",
       "</div>"
      ],
      "text/plain": [
       "                   A         B         C         D     E\n",
       "2013-01-03  0.312468  1.238899 -0.968888 -1.273762   two\n",
       "2013-01-05  0.674999 -1.069760  0.334548  0.803330  four"
      ]
     },
     "execution_count": 14,
     "metadata": {},
     "output_type": "execute_result"
    }
   ],
   "source": [
    "# Selecting and Filtering Data \n",
    "\n",
    "df2 = df.copy()\n",
    "\n",
    "df2[\"E\"] = [\"one\", \"one\", \"two\", \"three\", \"four\", \"three\"]\n",
    "\n",
    "df2[df2[\"E\"].isin([\"two\", \"four\"])]"
   ]
  },
  {
   "cell_type": "code",
   "execution_count": null,
   "id": "950e3f29-0eea-4636-94e4-f04db5e9da0f",
   "metadata": {},
   "outputs": [],
   "source": []
  }
 ],
 "metadata": {
  "kernelspec": {
   "display_name": "Python 3 (ipykernel)",
   "language": "python",
   "name": "python3"
  },
  "language_info": {
   "codemirror_mode": {
    "name": "ipython",
    "version": 3
   },
   "file_extension": ".py",
   "mimetype": "text/x-python",
   "name": "python",
   "nbconvert_exporter": "python",
   "pygments_lexer": "ipython3",
   "version": "3.11.3"
  }
 },
 "nbformat": 4,
 "nbformat_minor": 5
}
