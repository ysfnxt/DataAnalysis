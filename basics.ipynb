{
 "cells": [
  {
   "cell_type": "code",
   "execution_count": 1,
   "id": "f4febea4-0b65-4db4-9a1f-84df5129dc89",
   "metadata": {
    "execution": {
     "iopub.execute_input": "2023-06-01T05:32:25.869857Z",
     "iopub.status.busy": "2023-06-01T05:32:25.869857Z",
     "iopub.status.idle": "2023-06-01T05:32:26.565200Z",
     "shell.execute_reply": "2023-06-01T05:32:26.565200Z",
     "shell.execute_reply.started": "2023-06-01T05:32:25.869857Z"
    }
   },
   "outputs": [],
   "source": [
    "# Import Pandas and Numpy \n",
    "import pandas as pd\n",
    "import numpy as np"
   ]
  },
  {
   "cell_type": "code",
   "execution_count": 2,
   "id": "9cd06346-417b-4776-8c57-5a7f49ea81c2",
   "metadata": {
    "execution": {
     "iopub.execute_input": "2023-06-01T05:33:05.639602Z",
     "iopub.status.busy": "2023-06-01T05:33:05.639602Z",
     "iopub.status.idle": "2023-06-01T05:33:05.645002Z",
     "shell.execute_reply": "2023-06-01T05:33:05.645002Z",
     "shell.execute_reply.started": "2023-06-01T05:33:05.639602Z"
    }
   },
   "outputs": [],
   "source": [
    "# Creating an Object/Series\n",
    "\n",
    "s = pd.Series([1, 3, 5, np.nan, 6, 8])"
   ]
  },
  {
   "cell_type": "code",
   "execution_count": 3,
   "id": "fac8c6ec-83ef-41ff-94ff-1ede88f0946d",
   "metadata": {
    "execution": {
     "iopub.execute_input": "2023-06-01T05:33:06.514609Z",
     "iopub.status.busy": "2023-06-01T05:33:06.514609Z",
     "iopub.status.idle": "2023-06-01T05:33:06.529251Z",
     "shell.execute_reply": "2023-06-01T05:33:06.529251Z",
     "shell.execute_reply.started": "2023-06-01T05:33:06.514609Z"
    }
   },
   "outputs": [
    {
     "data": {
      "text/plain": [
       "0    1.0\n",
       "1    3.0\n",
       "2    5.0\n",
       "3    NaN\n",
       "4    6.0\n",
       "5    8.0\n",
       "dtype: float64"
      ]
     },
     "execution_count": 3,
     "metadata": {},
     "output_type": "execute_result"
    }
   ],
   "source": [
    "s"
   ]
  },
  {
   "cell_type": "code",
   "execution_count": 4,
   "id": "91be6bb0-988c-4fa9-8369-d8139c33277e",
   "metadata": {
    "execution": {
     "iopub.execute_input": "2023-06-01T05:53:34.573489Z",
     "iopub.status.busy": "2023-06-01T05:53:34.573489Z",
     "iopub.status.idle": "2023-06-01T05:53:34.587919Z",
     "shell.execute_reply": "2023-06-01T05:53:34.587919Z",
     "shell.execute_reply.started": "2023-06-01T05:53:34.573489Z"
    }
   },
   "outputs": [],
   "source": [
    "# Create a Dataframe\n",
    "\n",
    "dates = pd.date_range(\"20130101\", periods=6)"
   ]
  },
  {
   "cell_type": "code",
   "execution_count": 5,
   "id": "4ace0a2a-8a7d-48cf-b85e-1848f4e608ab",
   "metadata": {
    "execution": {
     "iopub.execute_input": "2023-06-01T05:53:38.050894Z",
     "iopub.status.busy": "2023-06-01T05:53:38.050894Z",
     "iopub.status.idle": "2023-06-01T05:53:38.056156Z",
     "shell.execute_reply": "2023-06-01T05:53:38.056156Z",
     "shell.execute_reply.started": "2023-06-01T05:53:38.050894Z"
    }
   },
   "outputs": [
    {
     "data": {
      "text/plain": [
       "DatetimeIndex(['2013-01-01', '2013-01-02', '2013-01-03', '2013-01-04',\n",
       "               '2013-01-05', '2013-01-06'],\n",
       "              dtype='datetime64[ns]', freq='D')"
      ]
     },
     "execution_count": 5,
     "metadata": {},
     "output_type": "execute_result"
    }
   ],
   "source": [
    "dates"
   ]
  },
  {
   "cell_type": "code",
   "execution_count": 6,
   "id": "4a653a04-2c3b-47c7-a495-d8e2e394633a",
   "metadata": {
    "execution": {
     "iopub.execute_input": "2023-06-01T05:53:48.909377Z",
     "iopub.status.busy": "2023-06-01T05:53:48.909377Z",
     "iopub.status.idle": "2023-06-01T05:53:48.921382Z",
     "shell.execute_reply": "2023-06-01T05:53:48.921382Z",
     "shell.execute_reply.started": "2023-06-01T05:53:48.909377Z"
    }
   },
   "outputs": [],
   "source": [
    "df = pd.DataFrame(np.random.randn(6, 4), index=dates, columns=list(\"ABCD\"))"
   ]
  },
  {
   "cell_type": "code",
   "execution_count": 7,
   "id": "e1b81cfd-5fc1-425d-8ae1-3a4268e099b7",
   "metadata": {
    "execution": {
     "iopub.execute_input": "2023-06-01T05:54:01.036197Z",
     "iopub.status.busy": "2023-06-01T05:54:01.036197Z",
     "iopub.status.idle": "2023-06-01T05:54:01.055250Z",
     "shell.execute_reply": "2023-06-01T05:54:01.055250Z",
     "shell.execute_reply.started": "2023-06-01T05:54:01.036197Z"
    }
   },
   "outputs": [
    {
     "data": {
      "text/html": [
       "<div>\n",
       "<style scoped>\n",
       "    .dataframe tbody tr th:only-of-type {\n",
       "        vertical-align: middle;\n",
       "    }\n",
       "\n",
       "    .dataframe tbody tr th {\n",
       "        vertical-align: top;\n",
       "    }\n",
       "\n",
       "    .dataframe thead th {\n",
       "        text-align: right;\n",
       "    }\n",
       "</style>\n",
       "<table border=\"1\" class=\"dataframe\">\n",
       "  <thead>\n",
       "    <tr style=\"text-align: right;\">\n",
       "      <th></th>\n",
       "      <th>A</th>\n",
       "      <th>B</th>\n",
       "      <th>C</th>\n",
       "      <th>D</th>\n",
       "    </tr>\n",
       "  </thead>\n",
       "  <tbody>\n",
       "    <tr>\n",
       "      <th>2013-01-01</th>\n",
       "      <td>0.171397</td>\n",
       "      <td>0.637813</td>\n",
       "      <td>1.010527</td>\n",
       "      <td>-0.659848</td>\n",
       "    </tr>\n",
       "    <tr>\n",
       "      <th>2013-01-02</th>\n",
       "      <td>0.400307</td>\n",
       "      <td>1.041624</td>\n",
       "      <td>-1.299575</td>\n",
       "      <td>-1.248932</td>\n",
       "    </tr>\n",
       "    <tr>\n",
       "      <th>2013-01-03</th>\n",
       "      <td>-0.051891</td>\n",
       "      <td>1.112520</td>\n",
       "      <td>0.355347</td>\n",
       "      <td>0.299261</td>\n",
       "    </tr>\n",
       "    <tr>\n",
       "      <th>2013-01-04</th>\n",
       "      <td>0.507409</td>\n",
       "      <td>-0.282377</td>\n",
       "      <td>0.031663</td>\n",
       "      <td>2.452497</td>\n",
       "    </tr>\n",
       "    <tr>\n",
       "      <th>2013-01-05</th>\n",
       "      <td>0.139020</td>\n",
       "      <td>0.964411</td>\n",
       "      <td>-1.651988</td>\n",
       "      <td>0.264638</td>\n",
       "    </tr>\n",
       "    <tr>\n",
       "      <th>2013-01-06</th>\n",
       "      <td>0.175670</td>\n",
       "      <td>0.113377</td>\n",
       "      <td>0.611708</td>\n",
       "      <td>-0.105987</td>\n",
       "    </tr>\n",
       "  </tbody>\n",
       "</table>\n",
       "</div>"
      ],
      "text/plain": [
       "                   A         B         C         D\n",
       "2013-01-01  0.171397  0.637813  1.010527 -0.659848\n",
       "2013-01-02  0.400307  1.041624 -1.299575 -1.248932\n",
       "2013-01-03 -0.051891  1.112520  0.355347  0.299261\n",
       "2013-01-04  0.507409 -0.282377  0.031663  2.452497\n",
       "2013-01-05  0.139020  0.964411 -1.651988  0.264638\n",
       "2013-01-06  0.175670  0.113377  0.611708 -0.105987"
      ]
     },
     "execution_count": 7,
     "metadata": {},
     "output_type": "execute_result"
    }
   ],
   "source": [
    "# Created a DataFrame\n",
    "df"
   ]
  },
  {
   "cell_type": "code",
   "execution_count": 8,
   "id": "969c1525-def4-49c3-824f-bda3313d0583",
   "metadata": {
    "execution": {
     "iopub.execute_input": "2023-06-01T05:55:00.548771Z",
     "iopub.status.busy": "2023-06-01T05:55:00.548771Z",
     "iopub.status.idle": "2023-06-01T05:55:00.555280Z",
     "shell.execute_reply": "2023-06-01T05:55:00.555280Z",
     "shell.execute_reply.started": "2023-06-01T05:55:00.548771Z"
    }
   },
   "outputs": [],
   "source": [
    "# Creating a Dataframe with Dicts\n",
    "\n",
    "df2 = pd.DataFrame(\n",
    "    {\n",
    "        \"A\": 1.0,\n",
    "        \"B\": pd.Timestamp(\"20130102\"),\n",
    "        \"C\": pd.Series(1, index=list(range(4)), dtype=\"float32\"),\n",
    "        \"D\": np.array([3] * 4, dtype=\"int32\"),\n",
    "        \"E\": pd.Categorical([\"test\", \"train\", \"test\", \"train\"]),\n",
    "        \"F\": \"foo\",\n",
    "    }\n",
    ")"
   ]
  },
  {
   "cell_type": "code",
   "execution_count": 10,
   "id": "061f8e44-c430-4663-ae26-15a8457138b5",
   "metadata": {
    "execution": {
     "iopub.execute_input": "2023-06-01T05:55:05.839124Z",
     "iopub.status.busy": "2023-06-01T05:55:05.839124Z",
     "iopub.status.idle": "2023-06-01T05:55:05.846041Z",
     "shell.execute_reply": "2023-06-01T05:55:05.846041Z",
     "shell.execute_reply.started": "2023-06-01T05:55:05.839124Z"
    }
   },
   "outputs": [
    {
     "data": {
      "text/html": [
       "<div>\n",
       "<style scoped>\n",
       "    .dataframe tbody tr th:only-of-type {\n",
       "        vertical-align: middle;\n",
       "    }\n",
       "\n",
       "    .dataframe tbody tr th {\n",
       "        vertical-align: top;\n",
       "    }\n",
       "\n",
       "    .dataframe thead th {\n",
       "        text-align: right;\n",
       "    }\n",
       "</style>\n",
       "<table border=\"1\" class=\"dataframe\">\n",
       "  <thead>\n",
       "    <tr style=\"text-align: right;\">\n",
       "      <th></th>\n",
       "      <th>A</th>\n",
       "      <th>B</th>\n",
       "      <th>C</th>\n",
       "      <th>D</th>\n",
       "      <th>E</th>\n",
       "      <th>F</th>\n",
       "    </tr>\n",
       "  </thead>\n",
       "  <tbody>\n",
       "    <tr>\n",
       "      <th>0</th>\n",
       "      <td>1.0</td>\n",
       "      <td>2013-01-02</td>\n",
       "      <td>1.0</td>\n",
       "      <td>3</td>\n",
       "      <td>test</td>\n",
       "      <td>foo</td>\n",
       "    </tr>\n",
       "    <tr>\n",
       "      <th>1</th>\n",
       "      <td>1.0</td>\n",
       "      <td>2013-01-02</td>\n",
       "      <td>1.0</td>\n",
       "      <td>3</td>\n",
       "      <td>train</td>\n",
       "      <td>foo</td>\n",
       "    </tr>\n",
       "    <tr>\n",
       "      <th>2</th>\n",
       "      <td>1.0</td>\n",
       "      <td>2013-01-02</td>\n",
       "      <td>1.0</td>\n",
       "      <td>3</td>\n",
       "      <td>test</td>\n",
       "      <td>foo</td>\n",
       "    </tr>\n",
       "    <tr>\n",
       "      <th>3</th>\n",
       "      <td>1.0</td>\n",
       "      <td>2013-01-02</td>\n",
       "      <td>1.0</td>\n",
       "      <td>3</td>\n",
       "      <td>train</td>\n",
       "      <td>foo</td>\n",
       "    </tr>\n",
       "  </tbody>\n",
       "</table>\n",
       "</div>"
      ],
      "text/plain": [
       "     A          B    C  D      E    F\n",
       "0  1.0 2013-01-02  1.0  3   test  foo\n",
       "1  1.0 2013-01-02  1.0  3  train  foo\n",
       "2  1.0 2013-01-02  1.0  3   test  foo\n",
       "3  1.0 2013-01-02  1.0  3  train  foo"
      ]
     },
     "execution_count": 10,
     "metadata": {},
     "output_type": "execute_result"
    }
   ],
   "source": [
    "df2"
   ]
  },
  {
   "cell_type": "code",
   "execution_count": 11,
   "id": "a5ee62f7-a832-4c5d-a202-b1f863d7d61f",
   "metadata": {
    "execution": {
     "iopub.execute_input": "2023-06-01T05:56:33.964072Z",
     "iopub.status.busy": "2023-06-01T05:56:33.956051Z",
     "iopub.status.idle": "2023-06-01T05:56:33.967813Z",
     "shell.execute_reply": "2023-06-01T05:56:33.967813Z",
     "shell.execute_reply.started": "2023-06-01T05:56:33.964072Z"
    }
   },
   "outputs": [
    {
     "data": {
      "text/plain": [
       "A           float64\n",
       "B    datetime64[ns]\n",
       "C           float32\n",
       "D             int32\n",
       "E          category\n",
       "F            object\n",
       "dtype: object"
      ]
     },
     "execution_count": 11,
     "metadata": {},
     "output_type": "execute_result"
    }
   ],
   "source": [
    "# Check DataTypes\n",
    "df2.dtypes"
   ]
  },
  {
   "cell_type": "code",
   "execution_count": 12,
   "id": "acb9263f-d8fe-4e41-9282-3d6065e1d669",
   "metadata": {
    "execution": {
     "iopub.execute_input": "2023-06-01T05:58:52.447674Z",
     "iopub.status.busy": "2023-06-01T05:58:52.447674Z",
     "iopub.status.idle": "2023-06-01T05:58:52.454751Z",
     "shell.execute_reply": "2023-06-01T05:58:52.454751Z",
     "shell.execute_reply.started": "2023-06-01T05:58:52.447674Z"
    }
   },
   "outputs": [],
   "source": [
    "# Viewing Data "
   ]
  },
  {
   "cell_type": "code",
   "execution_count": 14,
   "id": "e68d16ec-4af9-4f6b-a802-fb8081c06768",
   "metadata": {
    "execution": {
     "iopub.execute_input": "2023-06-01T05:59:05.323811Z",
     "iopub.status.busy": "2023-06-01T05:59:05.323811Z",
     "iopub.status.idle": "2023-06-01T05:59:05.334384Z",
     "shell.execute_reply": "2023-06-01T05:59:05.334384Z",
     "shell.execute_reply.started": "2023-06-01T05:59:05.323811Z"
    }
   },
   "outputs": [
    {
     "data": {
      "text/html": [
       "<div>\n",
       "<style scoped>\n",
       "    .dataframe tbody tr th:only-of-type {\n",
       "        vertical-align: middle;\n",
       "    }\n",
       "\n",
       "    .dataframe tbody tr th {\n",
       "        vertical-align: top;\n",
       "    }\n",
       "\n",
       "    .dataframe thead th {\n",
       "        text-align: right;\n",
       "    }\n",
       "</style>\n",
       "<table border=\"1\" class=\"dataframe\">\n",
       "  <thead>\n",
       "    <tr style=\"text-align: right;\">\n",
       "      <th></th>\n",
       "      <th>A</th>\n",
       "      <th>B</th>\n",
       "      <th>C</th>\n",
       "      <th>D</th>\n",
       "    </tr>\n",
       "  </thead>\n",
       "  <tbody>\n",
       "    <tr>\n",
       "      <th>2013-01-01</th>\n",
       "      <td>0.171397</td>\n",
       "      <td>0.637813</td>\n",
       "      <td>1.010527</td>\n",
       "      <td>-0.659848</td>\n",
       "    </tr>\n",
       "    <tr>\n",
       "      <th>2013-01-02</th>\n",
       "      <td>0.400307</td>\n",
       "      <td>1.041624</td>\n",
       "      <td>-1.299575</td>\n",
       "      <td>-1.248932</td>\n",
       "    </tr>\n",
       "  </tbody>\n",
       "</table>\n",
       "</div>"
      ],
      "text/plain": [
       "                   A         B         C         D\n",
       "2013-01-01  0.171397  0.637813  1.010527 -0.659848\n",
       "2013-01-02  0.400307  1.041624 -1.299575 -1.248932"
      ]
     },
     "execution_count": 14,
     "metadata": {},
     "output_type": "execute_result"
    }
   ],
   "source": [
    "## Top Row \n",
    "df.head(2)"
   ]
  },
  {
   "cell_type": "code",
   "execution_count": 15,
   "id": "a9596f7c-f5f1-462b-a808-8e4ab5542d8b",
   "metadata": {
    "execution": {
     "iopub.execute_input": "2023-06-01T05:59:22.698485Z",
     "iopub.status.busy": "2023-06-01T05:59:22.698485Z",
     "iopub.status.idle": "2023-06-01T05:59:22.707011Z",
     "shell.execute_reply": "2023-06-01T05:59:22.707011Z",
     "shell.execute_reply.started": "2023-06-01T05:59:22.698485Z"
    }
   },
   "outputs": [
    {
     "data": {
      "text/html": [
       "<div>\n",
       "<style scoped>\n",
       "    .dataframe tbody tr th:only-of-type {\n",
       "        vertical-align: middle;\n",
       "    }\n",
       "\n",
       "    .dataframe tbody tr th {\n",
       "        vertical-align: top;\n",
       "    }\n",
       "\n",
       "    .dataframe thead th {\n",
       "        text-align: right;\n",
       "    }\n",
       "</style>\n",
       "<table border=\"1\" class=\"dataframe\">\n",
       "  <thead>\n",
       "    <tr style=\"text-align: right;\">\n",
       "      <th></th>\n",
       "      <th>A</th>\n",
       "      <th>B</th>\n",
       "      <th>C</th>\n",
       "      <th>D</th>\n",
       "      <th>E</th>\n",
       "      <th>F</th>\n",
       "    </tr>\n",
       "  </thead>\n",
       "  <tbody>\n",
       "    <tr>\n",
       "      <th>1</th>\n",
       "      <td>1.0</td>\n",
       "      <td>2013-01-02</td>\n",
       "      <td>1.0</td>\n",
       "      <td>3</td>\n",
       "      <td>train</td>\n",
       "      <td>foo</td>\n",
       "    </tr>\n",
       "    <tr>\n",
       "      <th>2</th>\n",
       "      <td>1.0</td>\n",
       "      <td>2013-01-02</td>\n",
       "      <td>1.0</td>\n",
       "      <td>3</td>\n",
       "      <td>test</td>\n",
       "      <td>foo</td>\n",
       "    </tr>\n",
       "    <tr>\n",
       "      <th>3</th>\n",
       "      <td>1.0</td>\n",
       "      <td>2013-01-02</td>\n",
       "      <td>1.0</td>\n",
       "      <td>3</td>\n",
       "      <td>train</td>\n",
       "      <td>foo</td>\n",
       "    </tr>\n",
       "  </tbody>\n",
       "</table>\n",
       "</div>"
      ],
      "text/plain": [
       "     A          B    C  D      E    F\n",
       "1  1.0 2013-01-02  1.0  3  train  foo\n",
       "2  1.0 2013-01-02  1.0  3   test  foo\n",
       "3  1.0 2013-01-02  1.0  3  train  foo"
      ]
     },
     "execution_count": 15,
     "metadata": {},
     "output_type": "execute_result"
    }
   ],
   "source": [
    "## Bottom Row\n",
    "df2.tail(3)"
   ]
  },
  {
   "cell_type": "code",
   "execution_count": 16,
   "id": "d8c264ff-df7e-455e-a513-a6d262f84d59",
   "metadata": {
    "execution": {
     "iopub.execute_input": "2023-06-01T06:00:03.042191Z",
     "iopub.status.busy": "2023-06-01T06:00:03.042191Z",
     "iopub.status.idle": "2023-06-01T06:00:03.049115Z",
     "shell.execute_reply": "2023-06-01T06:00:03.049115Z",
     "shell.execute_reply.started": "2023-06-01T06:00:03.042191Z"
    }
   },
   "outputs": [
    {
     "data": {
      "text/plain": [
       "Index(['A', 'B', 'C', 'D'], dtype='object')"
      ]
     },
     "execution_count": 16,
     "metadata": {},
     "output_type": "execute_result"
    }
   ],
   "source": [
    "# To view the columns \n",
    "df.columns"
   ]
  },
  {
   "cell_type": "code",
   "execution_count": 17,
   "id": "4a2fd4bd-f265-4120-b45e-607e35c634e9",
   "metadata": {
    "execution": {
     "iopub.execute_input": "2023-06-01T06:02:29.746832Z",
     "iopub.status.busy": "2023-06-01T06:02:29.746832Z",
     "iopub.status.idle": "2023-06-01T06:02:29.752620Z",
     "shell.execute_reply": "2023-06-01T06:02:29.752620Z",
     "shell.execute_reply.started": "2023-06-01T06:02:29.746832Z"
    }
   },
   "outputs": [
    {
     "data": {
      "text/plain": [
       "Index([0, 1, 2, 3], dtype='int64')"
      ]
     },
     "execution_count": 17,
     "metadata": {},
     "output_type": "execute_result"
    }
   ],
   "source": [
    "# To view the index \n",
    "df2.index"
   ]
  },
  {
   "cell_type": "code",
   "execution_count": 19,
   "id": "86548fb1-54be-4b3e-921b-9bf34bcab955",
   "metadata": {
    "execution": {
     "iopub.execute_input": "2023-06-01T06:03:22.092268Z",
     "iopub.status.busy": "2023-06-01T06:03:22.092268Z",
     "iopub.status.idle": "2023-06-01T06:03:22.100308Z",
     "shell.execute_reply": "2023-06-01T06:03:22.100308Z",
     "shell.execute_reply.started": "2023-06-01T06:03:22.092268Z"
    }
   },
   "outputs": [
    {
     "data": {
      "text/plain": [
       "pandas.core.frame.DataFrame"
      ]
     },
     "execution_count": 19,
     "metadata": {},
     "output_type": "execute_result"
    }
   ],
   "source": [
    "# Convert to Numpy \n",
    "\n",
    "type(df)"
   ]
  },
  {
   "cell_type": "code",
   "execution_count": 20,
   "id": "c73c4d92-db5a-46ef-a186-efdefbbd3940",
   "metadata": {
    "execution": {
     "iopub.execute_input": "2023-06-01T06:03:37.123612Z",
     "iopub.status.busy": "2023-06-01T06:03:37.123612Z",
     "iopub.status.idle": "2023-06-01T06:03:37.129670Z",
     "shell.execute_reply": "2023-06-01T06:03:37.129670Z",
     "shell.execute_reply.started": "2023-06-01T06:03:37.123612Z"
    }
   },
   "outputs": [
    {
     "data": {
      "text/plain": [
       "array([[ 0.17139683,  0.63781273,  1.01052699, -0.65984771],\n",
       "       [ 0.40030666,  1.04162374, -1.29957507, -1.24893233],\n",
       "       [-0.05189142,  1.11252027,  0.35534653,  0.2992613 ],\n",
       "       [ 0.50740874, -0.28237736,  0.03166276,  2.45249656],\n",
       "       [ 0.13902008,  0.96441076, -1.65198801,  0.26463775],\n",
       "       [ 0.17566978,  0.11337721,  0.61170753, -0.10598672]])"
      ]
     },
     "execution_count": 20,
     "metadata": {},
     "output_type": "execute_result"
    }
   ],
   "source": [
    "df.to_numpy()"
   ]
  },
  {
   "cell_type": "code",
   "execution_count": 21,
   "id": "aa8b45ee-24ad-4e68-a719-90c7b3f3aae0",
   "metadata": {
    "execution": {
     "iopub.execute_input": "2023-06-01T06:05:30.474240Z",
     "iopub.status.busy": "2023-06-01T06:05:30.474240Z",
     "iopub.status.idle": "2023-06-01T06:05:30.490094Z",
     "shell.execute_reply": "2023-06-01T06:05:30.490094Z",
     "shell.execute_reply.started": "2023-06-01T06:05:30.474240Z"
    }
   },
   "outputs": [
    {
     "data": {
      "text/html": [
       "<div>\n",
       "<style scoped>\n",
       "    .dataframe tbody tr th:only-of-type {\n",
       "        vertical-align: middle;\n",
       "    }\n",
       "\n",
       "    .dataframe tbody tr th {\n",
       "        vertical-align: top;\n",
       "    }\n",
       "\n",
       "    .dataframe thead th {\n",
       "        text-align: right;\n",
       "    }\n",
       "</style>\n",
       "<table border=\"1\" class=\"dataframe\">\n",
       "  <thead>\n",
       "    <tr style=\"text-align: right;\">\n",
       "      <th></th>\n",
       "      <th>A</th>\n",
       "      <th>B</th>\n",
       "      <th>C</th>\n",
       "      <th>D</th>\n",
       "    </tr>\n",
       "  </thead>\n",
       "  <tbody>\n",
       "    <tr>\n",
       "      <th>count</th>\n",
       "      <td>4.0</td>\n",
       "      <td>4</td>\n",
       "      <td>4.0</td>\n",
       "      <td>4.0</td>\n",
       "    </tr>\n",
       "    <tr>\n",
       "      <th>mean</th>\n",
       "      <td>1.0</td>\n",
       "      <td>2013-01-02 00:00:00</td>\n",
       "      <td>1.0</td>\n",
       "      <td>3.0</td>\n",
       "    </tr>\n",
       "    <tr>\n",
       "      <th>min</th>\n",
       "      <td>1.0</td>\n",
       "      <td>2013-01-02 00:00:00</td>\n",
       "      <td>1.0</td>\n",
       "      <td>3.0</td>\n",
       "    </tr>\n",
       "    <tr>\n",
       "      <th>25%</th>\n",
       "      <td>1.0</td>\n",
       "      <td>2013-01-02 00:00:00</td>\n",
       "      <td>1.0</td>\n",
       "      <td>3.0</td>\n",
       "    </tr>\n",
       "    <tr>\n",
       "      <th>50%</th>\n",
       "      <td>1.0</td>\n",
       "      <td>2013-01-02 00:00:00</td>\n",
       "      <td>1.0</td>\n",
       "      <td>3.0</td>\n",
       "    </tr>\n",
       "    <tr>\n",
       "      <th>75%</th>\n",
       "      <td>1.0</td>\n",
       "      <td>2013-01-02 00:00:00</td>\n",
       "      <td>1.0</td>\n",
       "      <td>3.0</td>\n",
       "    </tr>\n",
       "    <tr>\n",
       "      <th>max</th>\n",
       "      <td>1.0</td>\n",
       "      <td>2013-01-02 00:00:00</td>\n",
       "      <td>1.0</td>\n",
       "      <td>3.0</td>\n",
       "    </tr>\n",
       "    <tr>\n",
       "      <th>std</th>\n",
       "      <td>0.0</td>\n",
       "      <td>NaN</td>\n",
       "      <td>0.0</td>\n",
       "      <td>0.0</td>\n",
       "    </tr>\n",
       "  </tbody>\n",
       "</table>\n",
       "</div>"
      ],
      "text/plain": [
       "         A                    B    C    D\n",
       "count  4.0                    4  4.0  4.0\n",
       "mean   1.0  2013-01-02 00:00:00  1.0  3.0\n",
       "min    1.0  2013-01-02 00:00:00  1.0  3.0\n",
       "25%    1.0  2013-01-02 00:00:00  1.0  3.0\n",
       "50%    1.0  2013-01-02 00:00:00  1.0  3.0\n",
       "75%    1.0  2013-01-02 00:00:00  1.0  3.0\n",
       "max    1.0  2013-01-02 00:00:00  1.0  3.0\n",
       "std    0.0                  NaN  0.0  0.0"
      ]
     },
     "execution_count": 21,
     "metadata": {},
     "output_type": "execute_result"
    }
   ],
   "source": [
    "# quick statistic summary of your data\n",
    "\n",
    "df2.describe()"
   ]
  },
  {
   "cell_type": "code",
   "execution_count": 24,
   "id": "d5468ed2-8190-46d5-bbee-8971e14ceb8f",
   "metadata": {
    "execution": {
     "iopub.execute_input": "2023-06-01T06:06:13.463761Z",
     "iopub.status.busy": "2023-06-01T06:06:13.463761Z",
     "iopub.status.idle": "2023-06-01T06:06:13.470245Z",
     "shell.execute_reply": "2023-06-01T06:06:13.470245Z",
     "shell.execute_reply.started": "2023-06-01T06:06:13.463761Z"
    }
   },
   "outputs": [
    {
     "data": {
      "text/html": [
       "<div>\n",
       "<style scoped>\n",
       "    .dataframe tbody tr th:only-of-type {\n",
       "        vertical-align: middle;\n",
       "    }\n",
       "\n",
       "    .dataframe tbody tr th {\n",
       "        vertical-align: top;\n",
       "    }\n",
       "\n",
       "    .dataframe thead th {\n",
       "        text-align: right;\n",
       "    }\n",
       "</style>\n",
       "<table border=\"1\" class=\"dataframe\">\n",
       "  <thead>\n",
       "    <tr style=\"text-align: right;\">\n",
       "      <th></th>\n",
       "      <th>0</th>\n",
       "      <th>1</th>\n",
       "      <th>2</th>\n",
       "      <th>3</th>\n",
       "    </tr>\n",
       "  </thead>\n",
       "  <tbody>\n",
       "    <tr>\n",
       "      <th>A</th>\n",
       "      <td>1.0</td>\n",
       "      <td>1.0</td>\n",
       "      <td>1.0</td>\n",
       "      <td>1.0</td>\n",
       "    </tr>\n",
       "    <tr>\n",
       "      <th>B</th>\n",
       "      <td>2013-01-02 00:00:00</td>\n",
       "      <td>2013-01-02 00:00:00</td>\n",
       "      <td>2013-01-02 00:00:00</td>\n",
       "      <td>2013-01-02 00:00:00</td>\n",
       "    </tr>\n",
       "    <tr>\n",
       "      <th>C</th>\n",
       "      <td>1.0</td>\n",
       "      <td>1.0</td>\n",
       "      <td>1.0</td>\n",
       "      <td>1.0</td>\n",
       "    </tr>\n",
       "    <tr>\n",
       "      <th>D</th>\n",
       "      <td>3</td>\n",
       "      <td>3</td>\n",
       "      <td>3</td>\n",
       "      <td>3</td>\n",
       "    </tr>\n",
       "    <tr>\n",
       "      <th>E</th>\n",
       "      <td>test</td>\n",
       "      <td>train</td>\n",
       "      <td>test</td>\n",
       "      <td>train</td>\n",
       "    </tr>\n",
       "    <tr>\n",
       "      <th>F</th>\n",
       "      <td>foo</td>\n",
       "      <td>foo</td>\n",
       "      <td>foo</td>\n",
       "      <td>foo</td>\n",
       "    </tr>\n",
       "  </tbody>\n",
       "</table>\n",
       "</div>"
      ],
      "text/plain": [
       "                     0                    1                    2   \n",
       "A                  1.0                  1.0                  1.0  \\\n",
       "B  2013-01-02 00:00:00  2013-01-02 00:00:00  2013-01-02 00:00:00   \n",
       "C                  1.0                  1.0                  1.0   \n",
       "D                    3                    3                    3   \n",
       "E                 test                train                 test   \n",
       "F                  foo                  foo                  foo   \n",
       "\n",
       "                     3  \n",
       "A                  1.0  \n",
       "B  2013-01-02 00:00:00  \n",
       "C                  1.0  \n",
       "D                    3  \n",
       "E                train  \n",
       "F                  foo  "
      ]
     },
     "execution_count": 24,
     "metadata": {},
     "output_type": "execute_result"
    }
   ],
   "source": [
    "# Transposing your data\n",
    "df2.T"
   ]
  },
  {
   "cell_type": "code",
   "execution_count": 25,
   "id": "bc6ab87d-f1a7-4c9f-8bf2-d5e9c5458e17",
   "metadata": {
    "execution": {
     "iopub.execute_input": "2023-06-01T06:07:51.207327Z",
     "iopub.status.busy": "2023-06-01T06:07:51.207327Z",
     "iopub.status.idle": "2023-06-01T06:07:51.219101Z",
     "shell.execute_reply": "2023-06-01T06:07:51.219101Z",
     "shell.execute_reply.started": "2023-06-01T06:07:51.207327Z"
    }
   },
   "outputs": [
    {
     "data": {
      "text/html": [
       "<div>\n",
       "<style scoped>\n",
       "    .dataframe tbody tr th:only-of-type {\n",
       "        vertical-align: middle;\n",
       "    }\n",
       "\n",
       "    .dataframe tbody tr th {\n",
       "        vertical-align: top;\n",
       "    }\n",
       "\n",
       "    .dataframe thead th {\n",
       "        text-align: right;\n",
       "    }\n",
       "</style>\n",
       "<table border=\"1\" class=\"dataframe\">\n",
       "  <thead>\n",
       "    <tr style=\"text-align: right;\">\n",
       "      <th></th>\n",
       "      <th>D</th>\n",
       "      <th>C</th>\n",
       "      <th>B</th>\n",
       "      <th>A</th>\n",
       "    </tr>\n",
       "  </thead>\n",
       "  <tbody>\n",
       "    <tr>\n",
       "      <th>2013-01-01</th>\n",
       "      <td>-0.659848</td>\n",
       "      <td>1.010527</td>\n",
       "      <td>0.637813</td>\n",
       "      <td>0.171397</td>\n",
       "    </tr>\n",
       "    <tr>\n",
       "      <th>2013-01-02</th>\n",
       "      <td>-1.248932</td>\n",
       "      <td>-1.299575</td>\n",
       "      <td>1.041624</td>\n",
       "      <td>0.400307</td>\n",
       "    </tr>\n",
       "    <tr>\n",
       "      <th>2013-01-03</th>\n",
       "      <td>0.299261</td>\n",
       "      <td>0.355347</td>\n",
       "      <td>1.112520</td>\n",
       "      <td>-0.051891</td>\n",
       "    </tr>\n",
       "    <tr>\n",
       "      <th>2013-01-04</th>\n",
       "      <td>2.452497</td>\n",
       "      <td>0.031663</td>\n",
       "      <td>-0.282377</td>\n",
       "      <td>0.507409</td>\n",
       "    </tr>\n",
       "    <tr>\n",
       "      <th>2013-01-05</th>\n",
       "      <td>0.264638</td>\n",
       "      <td>-1.651988</td>\n",
       "      <td>0.964411</td>\n",
       "      <td>0.139020</td>\n",
       "    </tr>\n",
       "    <tr>\n",
       "      <th>2013-01-06</th>\n",
       "      <td>-0.105987</td>\n",
       "      <td>0.611708</td>\n",
       "      <td>0.113377</td>\n",
       "      <td>0.175670</td>\n",
       "    </tr>\n",
       "  </tbody>\n",
       "</table>\n",
       "</div>"
      ],
      "text/plain": [
       "                   D         C         B         A\n",
       "2013-01-01 -0.659848  1.010527  0.637813  0.171397\n",
       "2013-01-02 -1.248932 -1.299575  1.041624  0.400307\n",
       "2013-01-03  0.299261  0.355347  1.112520 -0.051891\n",
       "2013-01-04  2.452497  0.031663 -0.282377  0.507409\n",
       "2013-01-05  0.264638 -1.651988  0.964411  0.139020\n",
       "2013-01-06 -0.105987  0.611708  0.113377  0.175670"
      ]
     },
     "execution_count": 25,
     "metadata": {},
     "output_type": "execute_result"
    }
   ],
   "source": [
    "# sort by an axis\n",
    "df.sort_index(axis=1, ascending=False)"
   ]
  },
  {
   "cell_type": "code",
   "execution_count": 28,
   "id": "10a4f497-3cbb-4f01-a500-d106eac6946f",
   "metadata": {
    "execution": {
     "iopub.execute_input": "2023-06-01T06:10:11.069418Z",
     "iopub.status.busy": "2023-06-01T06:10:11.069418Z",
     "iopub.status.idle": "2023-06-01T06:10:11.077938Z",
     "shell.execute_reply": "2023-06-01T06:10:11.077938Z",
     "shell.execute_reply.started": "2023-06-01T06:10:11.069418Z"
    }
   },
   "outputs": [
    {
     "data": {
      "text/html": [
       "<div>\n",
       "<style scoped>\n",
       "    .dataframe tbody tr th:only-of-type {\n",
       "        vertical-align: middle;\n",
       "    }\n",
       "\n",
       "    .dataframe tbody tr th {\n",
       "        vertical-align: top;\n",
       "    }\n",
       "\n",
       "    .dataframe thead th {\n",
       "        text-align: right;\n",
       "    }\n",
       "</style>\n",
       "<table border=\"1\" class=\"dataframe\">\n",
       "  <thead>\n",
       "    <tr style=\"text-align: right;\">\n",
       "      <th></th>\n",
       "      <th>A</th>\n",
       "      <th>B</th>\n",
       "      <th>C</th>\n",
       "      <th>D</th>\n",
       "      <th>E</th>\n",
       "      <th>F</th>\n",
       "    </tr>\n",
       "  </thead>\n",
       "  <tbody>\n",
       "    <tr>\n",
       "      <th>0</th>\n",
       "      <td>1.0</td>\n",
       "      <td>2013-01-02</td>\n",
       "      <td>1.0</td>\n",
       "      <td>3</td>\n",
       "      <td>test</td>\n",
       "      <td>foo</td>\n",
       "    </tr>\n",
       "    <tr>\n",
       "      <th>1</th>\n",
       "      <td>1.0</td>\n",
       "      <td>2013-01-02</td>\n",
       "      <td>1.0</td>\n",
       "      <td>3</td>\n",
       "      <td>train</td>\n",
       "      <td>foo</td>\n",
       "    </tr>\n",
       "    <tr>\n",
       "      <th>2</th>\n",
       "      <td>1.0</td>\n",
       "      <td>2013-01-02</td>\n",
       "      <td>1.0</td>\n",
       "      <td>3</td>\n",
       "      <td>test</td>\n",
       "      <td>foo</td>\n",
       "    </tr>\n",
       "    <tr>\n",
       "      <th>3</th>\n",
       "      <td>1.0</td>\n",
       "      <td>2013-01-02</td>\n",
       "      <td>1.0</td>\n",
       "      <td>3</td>\n",
       "      <td>train</td>\n",
       "      <td>foo</td>\n",
       "    </tr>\n",
       "  </tbody>\n",
       "</table>\n",
       "</div>"
      ],
      "text/plain": [
       "     A          B    C  D      E    F\n",
       "0  1.0 2013-01-02  1.0  3   test  foo\n",
       "1  1.0 2013-01-02  1.0  3  train  foo\n",
       "2  1.0 2013-01-02  1.0  3   test  foo\n",
       "3  1.0 2013-01-02  1.0  3  train  foo"
      ]
     },
     "execution_count": 28,
     "metadata": {},
     "output_type": "execute_result"
    }
   ],
   "source": [
    "# Sort by Values \n",
    "df2.sort_values(by=\"B\")"
   ]
  },
  {
   "cell_type": "code",
   "execution_count": null,
   "id": "27188239-1ca1-4b99-a7cd-2c9dac95746e",
   "metadata": {},
   "outputs": [],
   "source": []
  }
 ],
 "metadata": {
  "kernelspec": {
   "display_name": "Python 3 (ipykernel)",
   "language": "python",
   "name": "python3"
  },
  "language_info": {
   "codemirror_mode": {
    "name": "ipython",
    "version": 3
   },
   "file_extension": ".py",
   "mimetype": "text/x-python",
   "name": "python",
   "nbconvert_exporter": "python",
   "pygments_lexer": "ipython3",
   "version": "3.11.3"
  }
 },
 "nbformat": 4,
 "nbformat_minor": 5
}
