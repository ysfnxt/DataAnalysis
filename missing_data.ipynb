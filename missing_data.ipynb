{
 "cells": [
  {
   "cell_type": "code",
   "execution_count": 1,
   "id": "dc302058-83ec-4dd1-834c-a60584a4ee77",
   "metadata": {
    "execution": {
     "iopub.execute_input": "2023-06-01T07:42:28.369183Z",
     "iopub.status.busy": "2023-06-01T07:42:28.367170Z",
     "iopub.status.idle": "2023-06-01T07:42:28.407470Z",
     "shell.execute_reply": "2023-06-01T07:42:28.404458Z",
     "shell.execute_reply.started": "2023-06-01T07:42:28.369183Z"
    }
   },
   "outputs": [],
   "source": [
    "# np.nan  --> to represent missing data"
   ]
  },
  {
   "cell_type": "code",
   "execution_count": 3,
   "id": "c0e6a6a4-ddc0-40d4-bfbd-06267353f626",
   "metadata": {
    "execution": {
     "iopub.execute_input": "2023-06-01T07:42:49.209631Z",
     "iopub.status.busy": "2023-06-01T07:42:49.209631Z",
     "iopub.status.idle": "2023-06-01T07:42:49.214633Z",
     "shell.execute_reply": "2023-06-01T07:42:49.214633Z",
     "shell.execute_reply.started": "2023-06-01T07:42:49.209631Z"
    }
   },
   "outputs": [],
   "source": [
    "import pandas as pd\n",
    "import numpy as np\n",
    "\n",
    "dates = pd.date_range(\"20130101\", periods=6)\n",
    "df = pd.DataFrame(np.random.randn(6, 4), index=dates, columns=list(\"ABCD\"))"
   ]
  },
  {
   "cell_type": "code",
   "execution_count": 4,
   "id": "ea3004e3-50b5-4f54-ac2a-eeb331c460bd",
   "metadata": {
    "execution": {
     "iopub.execute_input": "2023-06-01T07:42:51.520546Z",
     "iopub.status.busy": "2023-06-01T07:42:51.520546Z",
     "iopub.status.idle": "2023-06-01T07:42:51.542082Z",
     "shell.execute_reply": "2023-06-01T07:42:51.542082Z",
     "shell.execute_reply.started": "2023-06-01T07:42:51.520546Z"
    }
   },
   "outputs": [
    {
     "data": {
      "text/html": [
       "<div>\n",
       "<style scoped>\n",
       "    .dataframe tbody tr th:only-of-type {\n",
       "        vertical-align: middle;\n",
       "    }\n",
       "\n",
       "    .dataframe tbody tr th {\n",
       "        vertical-align: top;\n",
       "    }\n",
       "\n",
       "    .dataframe thead th {\n",
       "        text-align: right;\n",
       "    }\n",
       "</style>\n",
       "<table border=\"1\" class=\"dataframe\">\n",
       "  <thead>\n",
       "    <tr style=\"text-align: right;\">\n",
       "      <th></th>\n",
       "      <th>A</th>\n",
       "      <th>B</th>\n",
       "      <th>C</th>\n",
       "      <th>D</th>\n",
       "    </tr>\n",
       "  </thead>\n",
       "  <tbody>\n",
       "    <tr>\n",
       "      <th>2013-01-01</th>\n",
       "      <td>-1.974415</td>\n",
       "      <td>-1.815294</td>\n",
       "      <td>0.328820</td>\n",
       "      <td>1.087163</td>\n",
       "    </tr>\n",
       "    <tr>\n",
       "      <th>2013-01-02</th>\n",
       "      <td>-0.031490</td>\n",
       "      <td>0.297032</td>\n",
       "      <td>0.434046</td>\n",
       "      <td>1.251284</td>\n",
       "    </tr>\n",
       "    <tr>\n",
       "      <th>2013-01-03</th>\n",
       "      <td>-0.315673</td>\n",
       "      <td>-1.447203</td>\n",
       "      <td>0.211837</td>\n",
       "      <td>-0.624820</td>\n",
       "    </tr>\n",
       "    <tr>\n",
       "      <th>2013-01-04</th>\n",
       "      <td>0.292987</td>\n",
       "      <td>-1.585787</td>\n",
       "      <td>-1.852396</td>\n",
       "      <td>0.967886</td>\n",
       "    </tr>\n",
       "    <tr>\n",
       "      <th>2013-01-05</th>\n",
       "      <td>0.392825</td>\n",
       "      <td>0.505572</td>\n",
       "      <td>-0.126668</td>\n",
       "      <td>0.691968</td>\n",
       "    </tr>\n",
       "    <tr>\n",
       "      <th>2013-01-06</th>\n",
       "      <td>1.483829</td>\n",
       "      <td>-1.411486</td>\n",
       "      <td>0.004214</td>\n",
       "      <td>0.546055</td>\n",
       "    </tr>\n",
       "  </tbody>\n",
       "</table>\n",
       "</div>"
      ],
      "text/plain": [
       "                   A         B         C         D\n",
       "2013-01-01 -1.974415 -1.815294  0.328820  1.087163\n",
       "2013-01-02 -0.031490  0.297032  0.434046  1.251284\n",
       "2013-01-03 -0.315673 -1.447203  0.211837 -0.624820\n",
       "2013-01-04  0.292987 -1.585787 -1.852396  0.967886\n",
       "2013-01-05  0.392825  0.505572 -0.126668  0.691968\n",
       "2013-01-06  1.483829 -1.411486  0.004214  0.546055"
      ]
     },
     "execution_count": 4,
     "metadata": {},
     "output_type": "execute_result"
    }
   ],
   "source": [
    "df "
   ]
  },
  {
   "cell_type": "code",
   "execution_count": 5,
   "id": "4ece6342-bc18-476c-9e19-2dd106ae096c",
   "metadata": {
    "execution": {
     "iopub.execute_input": "2023-06-01T07:43:14.269711Z",
     "iopub.status.busy": "2023-06-01T07:43:14.269711Z",
     "iopub.status.idle": "2023-06-01T07:43:14.276657Z",
     "shell.execute_reply": "2023-06-01T07:43:14.276657Z",
     "shell.execute_reply.started": "2023-06-01T07:43:14.269711Z"
    }
   },
   "outputs": [],
   "source": [
    "df1 = df.reindex(index=dates[0:4], columns=list(df.columns) + [\"E\"])\n",
    "\n",
    "df1.loc[dates[0] : dates[1], \"E\"] = 1"
   ]
  },
  {
   "cell_type": "code",
   "execution_count": 6,
   "id": "58394a10-d5b8-48c2-b6e3-e51db331e00c",
   "metadata": {
    "execution": {
     "iopub.execute_input": "2023-06-01T07:43:16.237692Z",
     "iopub.status.busy": "2023-06-01T07:43:16.237692Z",
     "iopub.status.idle": "2023-06-01T07:43:16.245731Z",
     "shell.execute_reply": "2023-06-01T07:43:16.245731Z",
     "shell.execute_reply.started": "2023-06-01T07:43:16.237692Z"
    }
   },
   "outputs": [
    {
     "data": {
      "text/html": [
       "<div>\n",
       "<style scoped>\n",
       "    .dataframe tbody tr th:only-of-type {\n",
       "        vertical-align: middle;\n",
       "    }\n",
       "\n",
       "    .dataframe tbody tr th {\n",
       "        vertical-align: top;\n",
       "    }\n",
       "\n",
       "    .dataframe thead th {\n",
       "        text-align: right;\n",
       "    }\n",
       "</style>\n",
       "<table border=\"1\" class=\"dataframe\">\n",
       "  <thead>\n",
       "    <tr style=\"text-align: right;\">\n",
       "      <th></th>\n",
       "      <th>A</th>\n",
       "      <th>B</th>\n",
       "      <th>C</th>\n",
       "      <th>D</th>\n",
       "      <th>E</th>\n",
       "    </tr>\n",
       "  </thead>\n",
       "  <tbody>\n",
       "    <tr>\n",
       "      <th>2013-01-01</th>\n",
       "      <td>-1.974415</td>\n",
       "      <td>-1.815294</td>\n",
       "      <td>0.328820</td>\n",
       "      <td>1.087163</td>\n",
       "      <td>1.0</td>\n",
       "    </tr>\n",
       "    <tr>\n",
       "      <th>2013-01-02</th>\n",
       "      <td>-0.031490</td>\n",
       "      <td>0.297032</td>\n",
       "      <td>0.434046</td>\n",
       "      <td>1.251284</td>\n",
       "      <td>1.0</td>\n",
       "    </tr>\n",
       "    <tr>\n",
       "      <th>2013-01-03</th>\n",
       "      <td>-0.315673</td>\n",
       "      <td>-1.447203</td>\n",
       "      <td>0.211837</td>\n",
       "      <td>-0.624820</td>\n",
       "      <td>NaN</td>\n",
       "    </tr>\n",
       "    <tr>\n",
       "      <th>2013-01-04</th>\n",
       "      <td>0.292987</td>\n",
       "      <td>-1.585787</td>\n",
       "      <td>-1.852396</td>\n",
       "      <td>0.967886</td>\n",
       "      <td>NaN</td>\n",
       "    </tr>\n",
       "  </tbody>\n",
       "</table>\n",
       "</div>"
      ],
      "text/plain": [
       "                   A         B         C         D    E\n",
       "2013-01-01 -1.974415 -1.815294  0.328820  1.087163  1.0\n",
       "2013-01-02 -0.031490  0.297032  0.434046  1.251284  1.0\n",
       "2013-01-03 -0.315673 -1.447203  0.211837 -0.624820  NaN\n",
       "2013-01-04  0.292987 -1.585787 -1.852396  0.967886  NaN"
      ]
     },
     "execution_count": 6,
     "metadata": {},
     "output_type": "execute_result"
    }
   ],
   "source": [
    "df1"
   ]
  },
  {
   "cell_type": "code",
   "execution_count": 9,
   "id": "503d083f-6574-4c2c-8e65-926782380cdb",
   "metadata": {
    "execution": {
     "iopub.execute_input": "2023-06-01T07:44:23.807845Z",
     "iopub.status.busy": "2023-06-01T07:44:23.807845Z",
     "iopub.status.idle": "2023-06-01T07:44:23.819388Z",
     "shell.execute_reply": "2023-06-01T07:44:23.819388Z",
     "shell.execute_reply.started": "2023-06-01T07:44:23.807845Z"
    }
   },
   "outputs": [
    {
     "data": {
      "text/html": [
       "<div>\n",
       "<style scoped>\n",
       "    .dataframe tbody tr th:only-of-type {\n",
       "        vertical-align: middle;\n",
       "    }\n",
       "\n",
       "    .dataframe tbody tr th {\n",
       "        vertical-align: top;\n",
       "    }\n",
       "\n",
       "    .dataframe thead th {\n",
       "        text-align: right;\n",
       "    }\n",
       "</style>\n",
       "<table border=\"1\" class=\"dataframe\">\n",
       "  <thead>\n",
       "    <tr style=\"text-align: right;\">\n",
       "      <th></th>\n",
       "      <th>A</th>\n",
       "      <th>B</th>\n",
       "      <th>C</th>\n",
       "      <th>D</th>\n",
       "      <th>E</th>\n",
       "    </tr>\n",
       "  </thead>\n",
       "  <tbody>\n",
       "    <tr>\n",
       "      <th>2013-01-01</th>\n",
       "      <td>-1.974415</td>\n",
       "      <td>-1.815294</td>\n",
       "      <td>0.328820</td>\n",
       "      <td>1.087163</td>\n",
       "      <td>1.0</td>\n",
       "    </tr>\n",
       "    <tr>\n",
       "      <th>2013-01-02</th>\n",
       "      <td>-0.031490</td>\n",
       "      <td>0.297032</td>\n",
       "      <td>0.434046</td>\n",
       "      <td>1.251284</td>\n",
       "      <td>1.0</td>\n",
       "    </tr>\n",
       "  </tbody>\n",
       "</table>\n",
       "</div>"
      ],
      "text/plain": [
       "                   A         B         C         D    E\n",
       "2013-01-01 -1.974415 -1.815294  0.328820  1.087163  1.0\n",
       "2013-01-02 -0.031490  0.297032  0.434046  1.251284  1.0"
      ]
     },
     "execution_count": 9,
     "metadata": {},
     "output_type": "execute_result"
    }
   ],
   "source": [
    "# Drops any row which has a NULL value\n",
    "df1.dropna(how=\"any\")"
   ]
  },
  {
   "cell_type": "code",
   "execution_count": 10,
   "id": "57e876c1-01e2-49a9-bbb9-4ea6b5579a14",
   "metadata": {
    "execution": {
     "iopub.execute_input": "2023-06-01T07:44:57.210638Z",
     "iopub.status.busy": "2023-06-01T07:44:57.210638Z",
     "iopub.status.idle": "2023-06-01T07:44:57.221166Z",
     "shell.execute_reply": "2023-06-01T07:44:57.221166Z",
     "shell.execute_reply.started": "2023-06-01T07:44:57.210638Z"
    }
   },
   "outputs": [
    {
     "data": {
      "text/html": [
       "<div>\n",
       "<style scoped>\n",
       "    .dataframe tbody tr th:only-of-type {\n",
       "        vertical-align: middle;\n",
       "    }\n",
       "\n",
       "    .dataframe tbody tr th {\n",
       "        vertical-align: top;\n",
       "    }\n",
       "\n",
       "    .dataframe thead th {\n",
       "        text-align: right;\n",
       "    }\n",
       "</style>\n",
       "<table border=\"1\" class=\"dataframe\">\n",
       "  <thead>\n",
       "    <tr style=\"text-align: right;\">\n",
       "      <th></th>\n",
       "      <th>A</th>\n",
       "      <th>B</th>\n",
       "      <th>C</th>\n",
       "      <th>D</th>\n",
       "      <th>E</th>\n",
       "    </tr>\n",
       "  </thead>\n",
       "  <tbody>\n",
       "    <tr>\n",
       "      <th>2013-01-01</th>\n",
       "      <td>-1.974415</td>\n",
       "      <td>-1.815294</td>\n",
       "      <td>0.328820</td>\n",
       "      <td>1.087163</td>\n",
       "      <td>1.0</td>\n",
       "    </tr>\n",
       "    <tr>\n",
       "      <th>2013-01-02</th>\n",
       "      <td>-0.031490</td>\n",
       "      <td>0.297032</td>\n",
       "      <td>0.434046</td>\n",
       "      <td>1.251284</td>\n",
       "      <td>1.0</td>\n",
       "    </tr>\n",
       "    <tr>\n",
       "      <th>2013-01-03</th>\n",
       "      <td>-0.315673</td>\n",
       "      <td>-1.447203</td>\n",
       "      <td>0.211837</td>\n",
       "      <td>-0.624820</td>\n",
       "      <td>12345.0</td>\n",
       "    </tr>\n",
       "    <tr>\n",
       "      <th>2013-01-04</th>\n",
       "      <td>0.292987</td>\n",
       "      <td>-1.585787</td>\n",
       "      <td>-1.852396</td>\n",
       "      <td>0.967886</td>\n",
       "      <td>12345.0</td>\n",
       "    </tr>\n",
       "  </tbody>\n",
       "</table>\n",
       "</div>"
      ],
      "text/plain": [
       "                   A         B         C         D        E\n",
       "2013-01-01 -1.974415 -1.815294  0.328820  1.087163      1.0\n",
       "2013-01-02 -0.031490  0.297032  0.434046  1.251284      1.0\n",
       "2013-01-03 -0.315673 -1.447203  0.211837 -0.624820  12345.0\n",
       "2013-01-04  0.292987 -1.585787 -1.852396  0.967886  12345.0"
      ]
     },
     "execution_count": 10,
     "metadata": {},
     "output_type": "execute_result"
    }
   ],
   "source": [
    "# Fill NULL value with a value\n",
    "\n",
    "df1.fillna(value=12345)"
   ]
  },
  {
   "cell_type": "code",
   "execution_count": 12,
   "id": "00970afc-97a7-4ab1-8510-1c0561ffe193",
   "metadata": {
    "execution": {
     "iopub.execute_input": "2023-06-01T07:45:45.858222Z",
     "iopub.status.busy": "2023-06-01T07:45:45.850181Z",
     "iopub.status.idle": "2023-06-01T07:45:45.862321Z",
     "shell.execute_reply": "2023-06-01T07:45:45.862321Z",
     "shell.execute_reply.started": "2023-06-01T07:45:45.858222Z"
    }
   },
   "outputs": [
    {
     "data": {
      "text/plain": [
       "2013-01-01    False\n",
       "2013-01-02    False\n",
       "2013-01-03     True\n",
       "2013-01-04     True\n",
       "Freq: D, Name: E, dtype: bool"
      ]
     },
     "execution_count": 12,
     "metadata": {},
     "output_type": "execute_result"
    }
   ],
   "source": [
    "# True if NA value is present\n",
    "pd.isna(df1['E'])"
   ]
  },
  {
   "cell_type": "code",
   "execution_count": null,
   "id": "a17291a3-e387-46e0-abe6-de18ee9f52dd",
   "metadata": {},
   "outputs": [],
   "source": []
  }
 ],
 "metadata": {
  "kernelspec": {
   "display_name": "Python 3 (ipykernel)",
   "language": "python",
   "name": "python3"
  },
  "language_info": {
   "codemirror_mode": {
    "name": "ipython",
    "version": 3
   },
   "file_extension": ".py",
   "mimetype": "text/x-python",
   "name": "python",
   "nbconvert_exporter": "python",
   "pygments_lexer": "ipython3",
   "version": "3.11.3"
  }
 },
 "nbformat": 4,
 "nbformat_minor": 5
}
