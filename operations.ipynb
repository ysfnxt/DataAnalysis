{
 "cells": [
  {
   "cell_type": "code",
   "execution_count": 1,
   "id": "501f2b00-04ae-4499-adee-74dab9d30f1a",
   "metadata": {
    "execution": {
     "iopub.execute_input": "2023-06-01T08:44:40.596889Z",
     "iopub.status.busy": "2023-06-01T08:44:40.596889Z",
     "iopub.status.idle": "2023-06-01T08:44:40.955599Z",
     "shell.execute_reply": "2023-06-01T08:44:40.955599Z",
     "shell.execute_reply.started": "2023-06-01T08:44:40.596889Z"
    }
   },
   "outputs": [],
   "source": [
    "import pandas as pd\n",
    "import numpy as np\n",
    "\n",
    "dates = pd.date_range(\"20130101\", periods=6)\n",
    "df = pd.DataFrame(np.random.randn(6, 4), index=dates, columns=list(\"ABCD\"))"
   ]
  },
  {
   "cell_type": "code",
   "execution_count": 2,
   "id": "b5956936-7003-43cc-939f-fe2f1fd1ae08",
   "metadata": {
    "execution": {
     "iopub.execute_input": "2023-06-01T08:44:42.963974Z",
     "iopub.status.busy": "2023-06-01T08:44:42.963974Z",
     "iopub.status.idle": "2023-06-01T08:44:42.975046Z",
     "shell.execute_reply": "2023-06-01T08:44:42.975046Z",
     "shell.execute_reply.started": "2023-06-01T08:44:42.963974Z"
    }
   },
   "outputs": [
    {
     "data": {
      "text/html": [
       "<div>\n",
       "<style scoped>\n",
       "    .dataframe tbody tr th:only-of-type {\n",
       "        vertical-align: middle;\n",
       "    }\n",
       "\n",
       "    .dataframe tbody tr th {\n",
       "        vertical-align: top;\n",
       "    }\n",
       "\n",
       "    .dataframe thead th {\n",
       "        text-align: right;\n",
       "    }\n",
       "</style>\n",
       "<table border=\"1\" class=\"dataframe\">\n",
       "  <thead>\n",
       "    <tr style=\"text-align: right;\">\n",
       "      <th></th>\n",
       "      <th>A</th>\n",
       "      <th>B</th>\n",
       "      <th>C</th>\n",
       "      <th>D</th>\n",
       "    </tr>\n",
       "  </thead>\n",
       "  <tbody>\n",
       "    <tr>\n",
       "      <th>2013-01-01</th>\n",
       "      <td>-0.861595</td>\n",
       "      <td>1.484923</td>\n",
       "      <td>-0.353793</td>\n",
       "      <td>-0.570283</td>\n",
       "    </tr>\n",
       "    <tr>\n",
       "      <th>2013-01-02</th>\n",
       "      <td>0.348377</td>\n",
       "      <td>-1.292891</td>\n",
       "      <td>-0.108475</td>\n",
       "      <td>0.509132</td>\n",
       "    </tr>\n",
       "    <tr>\n",
       "      <th>2013-01-03</th>\n",
       "      <td>0.878780</td>\n",
       "      <td>0.044528</td>\n",
       "      <td>1.871044</td>\n",
       "      <td>0.489827</td>\n",
       "    </tr>\n",
       "    <tr>\n",
       "      <th>2013-01-04</th>\n",
       "      <td>-0.059541</td>\n",
       "      <td>0.318014</td>\n",
       "      <td>-2.139415</td>\n",
       "      <td>1.018739</td>\n",
       "    </tr>\n",
       "    <tr>\n",
       "      <th>2013-01-05</th>\n",
       "      <td>-0.262169</td>\n",
       "      <td>1.488689</td>\n",
       "      <td>0.212344</td>\n",
       "      <td>1.766538</td>\n",
       "    </tr>\n",
       "    <tr>\n",
       "      <th>2013-01-06</th>\n",
       "      <td>-0.208540</td>\n",
       "      <td>-0.362082</td>\n",
       "      <td>-0.429416</td>\n",
       "      <td>0.928568</td>\n",
       "    </tr>\n",
       "  </tbody>\n",
       "</table>\n",
       "</div>"
      ],
      "text/plain": [
       "                   A         B         C         D\n",
       "2013-01-01 -0.861595  1.484923 -0.353793 -0.570283\n",
       "2013-01-02  0.348377 -1.292891 -0.108475  0.509132\n",
       "2013-01-03  0.878780  0.044528  1.871044  0.489827\n",
       "2013-01-04 -0.059541  0.318014 -2.139415  1.018739\n",
       "2013-01-05 -0.262169  1.488689  0.212344  1.766538\n",
       "2013-01-06 -0.208540 -0.362082 -0.429416  0.928568"
      ]
     },
     "execution_count": 2,
     "metadata": {},
     "output_type": "execute_result"
    }
   ],
   "source": [
    "df"
   ]
  },
  {
   "cell_type": "code",
   "execution_count": 3,
   "id": "ba8ef3fd-479c-4a53-8692-7dacf5f1060a",
   "metadata": {
    "execution": {
     "iopub.execute_input": "2023-06-01T08:45:09.574905Z",
     "iopub.status.busy": "2023-06-01T08:45:09.574905Z",
     "iopub.status.idle": "2023-06-01T08:45:09.585563Z",
     "shell.execute_reply": "2023-06-01T08:45:09.585563Z",
     "shell.execute_reply.started": "2023-06-01T08:45:09.574905Z"
    }
   },
   "outputs": [
    {
     "data": {
      "text/plain": [
       "A   -0.027448\n",
       "B    0.280197\n",
       "C   -0.157952\n",
       "D    0.690420\n",
       "dtype: float64"
      ]
     },
     "execution_count": 3,
     "metadata": {},
     "output_type": "execute_result"
    }
   ],
   "source": [
    "# Mean \n",
    "\n",
    "df.mean()"
   ]
  },
  {
   "cell_type": "code",
   "execution_count": 4,
   "id": "c3a80ea0-d635-4c4a-b094-8458d75b3ea7",
   "metadata": {
    "execution": {
     "iopub.execute_input": "2023-06-01T08:49:17.498329Z",
     "iopub.status.busy": "2023-06-01T08:49:17.498329Z",
     "iopub.status.idle": "2023-06-01T08:49:17.502737Z",
     "shell.execute_reply": "2023-06-01T08:49:17.502737Z",
     "shell.execute_reply.started": "2023-06-01T08:49:17.498329Z"
    }
   },
   "outputs": [],
   "source": [
    "s = pd.Series([1, 3, 5, np.nan, 6, 8], index=dates).shift(2)"
   ]
  },
  {
   "cell_type": "code",
   "execution_count": 5,
   "id": "0f2a3818-ff9d-4e7b-894d-fce8c742e14c",
   "metadata": {
    "execution": {
     "iopub.execute_input": "2023-06-01T08:49:18.464047Z",
     "iopub.status.busy": "2023-06-01T08:49:18.464047Z",
     "iopub.status.idle": "2023-06-01T08:49:18.470886Z",
     "shell.execute_reply": "2023-06-01T08:49:18.470886Z",
     "shell.execute_reply.started": "2023-06-01T08:49:18.464047Z"
    }
   },
   "outputs": [
    {
     "data": {
      "text/plain": [
       "2013-01-01    NaN\n",
       "2013-01-02    NaN\n",
       "2013-01-03    1.0\n",
       "2013-01-04    3.0\n",
       "2013-01-05    5.0\n",
       "2013-01-06    NaN\n",
       "Freq: D, dtype: float64"
      ]
     },
     "execution_count": 5,
     "metadata": {},
     "output_type": "execute_result"
    }
   ],
   "source": [
    "s"
   ]
  },
  {
   "cell_type": "code",
   "execution_count": 6,
   "id": "ace5d661-4084-4d56-965a-79890fcdd3b0",
   "metadata": {
    "execution": {
     "iopub.execute_input": "2023-06-01T08:50:21.215931Z",
     "iopub.status.busy": "2023-06-01T08:50:21.215931Z",
     "iopub.status.idle": "2023-06-01T08:50:21.224626Z",
     "shell.execute_reply": "2023-06-01T08:50:21.224626Z",
     "shell.execute_reply.started": "2023-06-01T08:50:21.215931Z"
    }
   },
   "outputs": [
    {
     "data": {
      "text/html": [
       "<div>\n",
       "<style scoped>\n",
       "    .dataframe tbody tr th:only-of-type {\n",
       "        vertical-align: middle;\n",
       "    }\n",
       "\n",
       "    .dataframe tbody tr th {\n",
       "        vertical-align: top;\n",
       "    }\n",
       "\n",
       "    .dataframe thead th {\n",
       "        text-align: right;\n",
       "    }\n",
       "</style>\n",
       "<table border=\"1\" class=\"dataframe\">\n",
       "  <thead>\n",
       "    <tr style=\"text-align: right;\">\n",
       "      <th></th>\n",
       "      <th>A</th>\n",
       "      <th>B</th>\n",
       "      <th>C</th>\n",
       "      <th>D</th>\n",
       "    </tr>\n",
       "  </thead>\n",
       "  <tbody>\n",
       "    <tr>\n",
       "      <th>2013-01-01</th>\n",
       "      <td>-0.861595</td>\n",
       "      <td>1.484923</td>\n",
       "      <td>-0.353793</td>\n",
       "      <td>-0.570283</td>\n",
       "    </tr>\n",
       "    <tr>\n",
       "      <th>2013-01-02</th>\n",
       "      <td>-0.513218</td>\n",
       "      <td>0.192032</td>\n",
       "      <td>-0.462269</td>\n",
       "      <td>-0.061151</td>\n",
       "    </tr>\n",
       "    <tr>\n",
       "      <th>2013-01-03</th>\n",
       "      <td>0.365562</td>\n",
       "      <td>0.236560</td>\n",
       "      <td>1.408776</td>\n",
       "      <td>0.428676</td>\n",
       "    </tr>\n",
       "    <tr>\n",
       "      <th>2013-01-04</th>\n",
       "      <td>0.306021</td>\n",
       "      <td>0.554573</td>\n",
       "      <td>-0.730639</td>\n",
       "      <td>1.447414</td>\n",
       "    </tr>\n",
       "    <tr>\n",
       "      <th>2013-01-05</th>\n",
       "      <td>0.043852</td>\n",
       "      <td>2.043262</td>\n",
       "      <td>-0.518295</td>\n",
       "      <td>3.213952</td>\n",
       "    </tr>\n",
       "    <tr>\n",
       "      <th>2013-01-06</th>\n",
       "      <td>-0.164688</td>\n",
       "      <td>1.681180</td>\n",
       "      <td>-0.947711</td>\n",
       "      <td>4.142521</td>\n",
       "    </tr>\n",
       "  </tbody>\n",
       "</table>\n",
       "</div>"
      ],
      "text/plain": [
       "                   A         B         C         D\n",
       "2013-01-01 -0.861595  1.484923 -0.353793 -0.570283\n",
       "2013-01-02 -0.513218  0.192032 -0.462269 -0.061151\n",
       "2013-01-03  0.365562  0.236560  1.408776  0.428676\n",
       "2013-01-04  0.306021  0.554573 -0.730639  1.447414\n",
       "2013-01-05  0.043852  2.043262 -0.518295  3.213952\n",
       "2013-01-06 -0.164688  1.681180 -0.947711  4.142521"
      ]
     },
     "execution_count": 6,
     "metadata": {},
     "output_type": "execute_result"
    }
   ],
   "source": [
    "# df.apply --> applies a user defined function to the data\n",
    "\n",
    "df.apply(np.cumsum)"
   ]
  },
  {
   "cell_type": "code",
   "execution_count": 7,
   "id": "652bf609-b6d7-4362-9885-dcb5c1c0ba8c",
   "metadata": {
    "execution": {
     "iopub.execute_input": "2023-06-01T08:50:40.040544Z",
     "iopub.status.busy": "2023-06-01T08:50:40.040544Z",
     "iopub.status.idle": "2023-06-01T08:50:40.046298Z",
     "shell.execute_reply": "2023-06-01T08:50:40.046298Z",
     "shell.execute_reply.started": "2023-06-01T08:50:40.040544Z"
    }
   },
   "outputs": [
    {
     "data": {
      "text/plain": [
       "A    1.740375\n",
       "B    2.781580\n",
       "C    4.010459\n",
       "D    2.336821\n",
       "dtype: float64"
      ]
     },
     "execution_count": 7,
     "metadata": {},
     "output_type": "execute_result"
    }
   ],
   "source": [
    "df.apply(lambda x: x.max() - x.min())"
   ]
  },
  {
   "cell_type": "code",
   "execution_count": 8,
   "id": "2628ae97-a579-4bdb-baef-fb520e1093e0",
   "metadata": {
    "execution": {
     "iopub.execute_input": "2023-06-01T08:51:53.261843Z",
     "iopub.status.busy": "2023-06-01T08:51:53.261843Z",
     "iopub.status.idle": "2023-06-01T08:51:53.268374Z",
     "shell.execute_reply": "2023-06-01T08:51:53.268374Z",
     "shell.execute_reply.started": "2023-06-01T08:51:53.261843Z"
    }
   },
   "outputs": [],
   "source": [
    "s1 = pd.Series([\"A\", \"B\", \"C\", \"Aaba\", \"Baca\", np.nan, \"CABA\", \"dog\", \"cat\"])"
   ]
  },
  {
   "cell_type": "code",
   "execution_count": 9,
   "id": "f54c73b9-4164-4b55-b7af-01f11c0da351",
   "metadata": {
    "execution": {
     "iopub.execute_input": "2023-06-01T08:52:08.452778Z",
     "iopub.status.busy": "2023-06-01T08:52:08.452778Z",
     "iopub.status.idle": "2023-06-01T08:52:08.461358Z",
     "shell.execute_reply": "2023-06-01T08:52:08.461358Z",
     "shell.execute_reply.started": "2023-06-01T08:52:08.452778Z"
    }
   },
   "outputs": [
    {
     "data": {
      "text/plain": [
       "0       a\n",
       "1       b\n",
       "2       c\n",
       "3    aaba\n",
       "4    baca\n",
       "5     NaN\n",
       "6    caba\n",
       "7     dog\n",
       "8     cat\n",
       "dtype: object"
      ]
     },
     "execution_count": 9,
     "metadata": {},
     "output_type": "execute_result"
    }
   ],
   "source": [
    "s1.str.lower()"
   ]
  },
  {
   "cell_type": "code",
   "execution_count": null,
   "id": "2db6f2df-8032-494e-a798-58c15dbc8ef7",
   "metadata": {},
   "outputs": [],
   "source": []
  }
 ],
 "metadata": {
  "kernelspec": {
   "display_name": "Python 3 (ipykernel)",
   "language": "python",
   "name": "python3"
  },
  "language_info": {
   "codemirror_mode": {
    "name": "ipython",
    "version": 3
   },
   "file_extension": ".py",
   "mimetype": "text/x-python",
   "name": "python",
   "nbconvert_exporter": "python",
   "pygments_lexer": "ipython3",
   "version": "3.11.3"
  }
 },
 "nbformat": 4,
 "nbformat_minor": 5
}
