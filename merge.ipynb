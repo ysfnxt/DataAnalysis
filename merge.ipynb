{
 "cells": [
  {
   "cell_type": "code",
   "execution_count": 1,
   "id": "1c213a6b-e977-4372-a681-cb186ad195e3",
   "metadata": {
    "execution": {
     "iopub.execute_input": "2023-06-01T08:58:46.056829Z",
     "iopub.status.busy": "2023-06-01T08:58:46.056829Z",
     "iopub.status.idle": "2023-06-01T08:58:46.392597Z",
     "shell.execute_reply": "2023-06-01T08:58:46.392597Z",
     "shell.execute_reply.started": "2023-06-01T08:58:46.056829Z"
    }
   },
   "outputs": [],
   "source": [
    "import pandas as pd\n",
    "import numpy as np"
   ]
  },
  {
   "cell_type": "code",
   "execution_count": 2,
   "id": "f084fa79-01e3-486b-a685-825c5c51dc3a",
   "metadata": {
    "execution": {
     "iopub.execute_input": "2023-06-01T08:58:56.732103Z",
     "iopub.status.busy": "2023-06-01T08:58:56.732103Z",
     "iopub.status.idle": "2023-06-01T08:58:56.735194Z",
     "shell.execute_reply": "2023-06-01T08:58:56.735194Z",
     "shell.execute_reply.started": "2023-06-01T08:58:56.732103Z"
    }
   },
   "outputs": [],
   "source": [
    "df = pd.DataFrame(np.random.randn(10, 4))"
   ]
  },
  {
   "cell_type": "code",
   "execution_count": 3,
   "id": "454d8156-1e7d-4962-aeaf-c0936983de93",
   "metadata": {
    "execution": {
     "iopub.execute_input": "2023-06-01T08:58:58.393690Z",
     "iopub.status.busy": "2023-06-01T08:58:58.393690Z",
     "iopub.status.idle": "2023-06-01T08:58:58.406666Z",
     "shell.execute_reply": "2023-06-01T08:58:58.406666Z",
     "shell.execute_reply.started": "2023-06-01T08:58:58.393690Z"
    }
   },
   "outputs": [
    {
     "data": {
      "text/html": [
       "<div>\n",
       "<style scoped>\n",
       "    .dataframe tbody tr th:only-of-type {\n",
       "        vertical-align: middle;\n",
       "    }\n",
       "\n",
       "    .dataframe tbody tr th {\n",
       "        vertical-align: top;\n",
       "    }\n",
       "\n",
       "    .dataframe thead th {\n",
       "        text-align: right;\n",
       "    }\n",
       "</style>\n",
       "<table border=\"1\" class=\"dataframe\">\n",
       "  <thead>\n",
       "    <tr style=\"text-align: right;\">\n",
       "      <th></th>\n",
       "      <th>0</th>\n",
       "      <th>1</th>\n",
       "      <th>2</th>\n",
       "      <th>3</th>\n",
       "    </tr>\n",
       "  </thead>\n",
       "  <tbody>\n",
       "    <tr>\n",
       "      <th>0</th>\n",
       "      <td>-0.613876</td>\n",
       "      <td>-0.194700</td>\n",
       "      <td>0.410841</td>\n",
       "      <td>-0.236805</td>\n",
       "    </tr>\n",
       "    <tr>\n",
       "      <th>1</th>\n",
       "      <td>-1.021361</td>\n",
       "      <td>1.029244</td>\n",
       "      <td>0.634127</td>\n",
       "      <td>-0.629062</td>\n",
       "    </tr>\n",
       "    <tr>\n",
       "      <th>2</th>\n",
       "      <td>-0.958489</td>\n",
       "      <td>1.189671</td>\n",
       "      <td>0.047391</td>\n",
       "      <td>-0.410805</td>\n",
       "    </tr>\n",
       "    <tr>\n",
       "      <th>3</th>\n",
       "      <td>-0.320888</td>\n",
       "      <td>1.311311</td>\n",
       "      <td>-0.309710</td>\n",
       "      <td>-0.136716</td>\n",
       "    </tr>\n",
       "    <tr>\n",
       "      <th>4</th>\n",
       "      <td>-1.573149</td>\n",
       "      <td>-0.381066</td>\n",
       "      <td>1.042345</td>\n",
       "      <td>-0.128602</td>\n",
       "    </tr>\n",
       "    <tr>\n",
       "      <th>5</th>\n",
       "      <td>2.269634</td>\n",
       "      <td>-0.301884</td>\n",
       "      <td>0.536836</td>\n",
       "      <td>-0.419120</td>\n",
       "    </tr>\n",
       "    <tr>\n",
       "      <th>6</th>\n",
       "      <td>-1.315913</td>\n",
       "      <td>-0.758882</td>\n",
       "      <td>-1.086455</td>\n",
       "      <td>-1.319074</td>\n",
       "    </tr>\n",
       "    <tr>\n",
       "      <th>7</th>\n",
       "      <td>1.316288</td>\n",
       "      <td>-0.854269</td>\n",
       "      <td>0.231172</td>\n",
       "      <td>-0.456639</td>\n",
       "    </tr>\n",
       "    <tr>\n",
       "      <th>8</th>\n",
       "      <td>1.638529</td>\n",
       "      <td>-1.001465</td>\n",
       "      <td>0.350551</td>\n",
       "      <td>-1.568421</td>\n",
       "    </tr>\n",
       "    <tr>\n",
       "      <th>9</th>\n",
       "      <td>0.882754</td>\n",
       "      <td>-0.214923</td>\n",
       "      <td>0.071357</td>\n",
       "      <td>0.261445</td>\n",
       "    </tr>\n",
       "  </tbody>\n",
       "</table>\n",
       "</div>"
      ],
      "text/plain": [
       "          0         1         2         3\n",
       "0 -0.613876 -0.194700  0.410841 -0.236805\n",
       "1 -1.021361  1.029244  0.634127 -0.629062\n",
       "2 -0.958489  1.189671  0.047391 -0.410805\n",
       "3 -0.320888  1.311311 -0.309710 -0.136716\n",
       "4 -1.573149 -0.381066  1.042345 -0.128602\n",
       "5  2.269634 -0.301884  0.536836 -0.419120\n",
       "6 -1.315913 -0.758882 -1.086455 -1.319074\n",
       "7  1.316288 -0.854269  0.231172 -0.456639\n",
       "8  1.638529 -1.001465  0.350551 -1.568421\n",
       "9  0.882754 -0.214923  0.071357  0.261445"
      ]
     },
     "execution_count": 3,
     "metadata": {},
     "output_type": "execute_result"
    }
   ],
   "source": [
    "df"
   ]
  },
  {
   "cell_type": "code",
   "execution_count": 4,
   "id": "e8d45a6b-5a23-4b73-a3d4-66836f059103",
   "metadata": {
    "execution": {
     "iopub.execute_input": "2023-06-01T08:59:33.195649Z",
     "iopub.status.busy": "2023-06-01T08:59:33.195649Z",
     "iopub.status.idle": "2023-06-01T08:59:33.307679Z",
     "shell.execute_reply": "2023-06-01T08:59:33.307679Z",
     "shell.execute_reply.started": "2023-06-01T08:59:33.195649Z"
    }
   },
   "outputs": [],
   "source": [
    "pieces = [df[:3], df[3:7], df[7:]]"
   ]
  },
  {
   "cell_type": "code",
   "execution_count": 5,
   "id": "2d096dea-31f1-4d6c-9af9-d24a700eb1ce",
   "metadata": {
    "execution": {
     "iopub.execute_input": "2023-06-01T08:59:36.090595Z",
     "iopub.status.busy": "2023-06-01T08:59:36.090595Z",
     "iopub.status.idle": "2023-06-01T08:59:36.099157Z",
     "shell.execute_reply": "2023-06-01T08:59:36.099157Z",
     "shell.execute_reply.started": "2023-06-01T08:59:36.090595Z"
    }
   },
   "outputs": [
    {
     "data": {
      "text/plain": [
       "[          0         1         2         3\n",
       " 0 -0.613876 -0.194700  0.410841 -0.236805\n",
       " 1 -1.021361  1.029244  0.634127 -0.629062\n",
       " 2 -0.958489  1.189671  0.047391 -0.410805,\n",
       "           0         1         2         3\n",
       " 3 -0.320888  1.311311 -0.309710 -0.136716\n",
       " 4 -1.573149 -0.381066  1.042345 -0.128602\n",
       " 5  2.269634 -0.301884  0.536836 -0.419120\n",
       " 6 -1.315913 -0.758882 -1.086455 -1.319074,\n",
       "           0         1         2         3\n",
       " 7  1.316288 -0.854269  0.231172 -0.456639\n",
       " 8  1.638529 -1.001465  0.350551 -1.568421\n",
       " 9  0.882754 -0.214923  0.071357  0.261445]"
      ]
     },
     "execution_count": 5,
     "metadata": {},
     "output_type": "execute_result"
    }
   ],
   "source": [
    "pieces"
   ]
  },
  {
   "cell_type": "code",
   "execution_count": 7,
   "id": "b3e1f067-4c9d-4227-b138-bf8df8a9362e",
   "metadata": {
    "execution": {
     "iopub.execute_input": "2023-06-01T09:00:22.847015Z",
     "iopub.status.busy": "2023-06-01T09:00:22.847015Z",
     "iopub.status.idle": "2023-06-01T09:00:22.853326Z",
     "shell.execute_reply": "2023-06-01T09:00:22.853326Z",
     "shell.execute_reply.started": "2023-06-01T09:00:22.847015Z"
    }
   },
   "outputs": [
    {
     "data": {
      "text/html": [
       "<div>\n",
       "<style scoped>\n",
       "    .dataframe tbody tr th:only-of-type {\n",
       "        vertical-align: middle;\n",
       "    }\n",
       "\n",
       "    .dataframe tbody tr th {\n",
       "        vertical-align: top;\n",
       "    }\n",
       "\n",
       "    .dataframe thead th {\n",
       "        text-align: right;\n",
       "    }\n",
       "</style>\n",
       "<table border=\"1\" class=\"dataframe\">\n",
       "  <thead>\n",
       "    <tr style=\"text-align: right;\">\n",
       "      <th></th>\n",
       "      <th>0</th>\n",
       "      <th>1</th>\n",
       "      <th>2</th>\n",
       "      <th>3</th>\n",
       "    </tr>\n",
       "  </thead>\n",
       "  <tbody>\n",
       "    <tr>\n",
       "      <th>0</th>\n",
       "      <td>-0.613876</td>\n",
       "      <td>-0.194700</td>\n",
       "      <td>0.410841</td>\n",
       "      <td>-0.236805</td>\n",
       "    </tr>\n",
       "    <tr>\n",
       "      <th>1</th>\n",
       "      <td>-1.021361</td>\n",
       "      <td>1.029244</td>\n",
       "      <td>0.634127</td>\n",
       "      <td>-0.629062</td>\n",
       "    </tr>\n",
       "    <tr>\n",
       "      <th>2</th>\n",
       "      <td>-0.958489</td>\n",
       "      <td>1.189671</td>\n",
       "      <td>0.047391</td>\n",
       "      <td>-0.410805</td>\n",
       "    </tr>\n",
       "    <tr>\n",
       "      <th>3</th>\n",
       "      <td>-0.320888</td>\n",
       "      <td>1.311311</td>\n",
       "      <td>-0.309710</td>\n",
       "      <td>-0.136716</td>\n",
       "    </tr>\n",
       "    <tr>\n",
       "      <th>4</th>\n",
       "      <td>-1.573149</td>\n",
       "      <td>-0.381066</td>\n",
       "      <td>1.042345</td>\n",
       "      <td>-0.128602</td>\n",
       "    </tr>\n",
       "    <tr>\n",
       "      <th>5</th>\n",
       "      <td>2.269634</td>\n",
       "      <td>-0.301884</td>\n",
       "      <td>0.536836</td>\n",
       "      <td>-0.419120</td>\n",
       "    </tr>\n",
       "    <tr>\n",
       "      <th>6</th>\n",
       "      <td>-1.315913</td>\n",
       "      <td>-0.758882</td>\n",
       "      <td>-1.086455</td>\n",
       "      <td>-1.319074</td>\n",
       "    </tr>\n",
       "    <tr>\n",
       "      <th>7</th>\n",
       "      <td>1.316288</td>\n",
       "      <td>-0.854269</td>\n",
       "      <td>0.231172</td>\n",
       "      <td>-0.456639</td>\n",
       "    </tr>\n",
       "    <tr>\n",
       "      <th>8</th>\n",
       "      <td>1.638529</td>\n",
       "      <td>-1.001465</td>\n",
       "      <td>0.350551</td>\n",
       "      <td>-1.568421</td>\n",
       "    </tr>\n",
       "    <tr>\n",
       "      <th>9</th>\n",
       "      <td>0.882754</td>\n",
       "      <td>-0.214923</td>\n",
       "      <td>0.071357</td>\n",
       "      <td>0.261445</td>\n",
       "    </tr>\n",
       "  </tbody>\n",
       "</table>\n",
       "</div>"
      ],
      "text/plain": [
       "          0         1         2         3\n",
       "0 -0.613876 -0.194700  0.410841 -0.236805\n",
       "1 -1.021361  1.029244  0.634127 -0.629062\n",
       "2 -0.958489  1.189671  0.047391 -0.410805\n",
       "3 -0.320888  1.311311 -0.309710 -0.136716\n",
       "4 -1.573149 -0.381066  1.042345 -0.128602\n",
       "5  2.269634 -0.301884  0.536836 -0.419120\n",
       "6 -1.315913 -0.758882 -1.086455 -1.319074\n",
       "7  1.316288 -0.854269  0.231172 -0.456639\n",
       "8  1.638529 -1.001465  0.350551 -1.568421\n",
       "9  0.882754 -0.214923  0.071357  0.261445"
      ]
     },
     "execution_count": 7,
     "metadata": {},
     "output_type": "execute_result"
    }
   ],
   "source": [
    "# Concatenate DFs\n",
    "pd.concat(pieces)"
   ]
  },
  {
   "cell_type": "code",
   "execution_count": 8,
   "id": "4aa529c7-d8a0-4f6a-a24a-6e995d6845e0",
   "metadata": {
    "execution": {
     "iopub.execute_input": "2023-06-01T09:01:42.188315Z",
     "iopub.status.busy": "2023-06-01T09:01:42.188315Z",
     "iopub.status.idle": "2023-06-01T09:01:42.192018Z",
     "shell.execute_reply": "2023-06-01T09:01:42.192018Z",
     "shell.execute_reply.started": "2023-06-01T09:01:42.188315Z"
    }
   },
   "outputs": [],
   "source": [
    "left = pd.DataFrame({\"key\": [\"foo\", \"foo\"], \"lval\": [1, 2]})\n",
    "right = pd.DataFrame({\"key\": [\"foo\", \"foo\"], \"rval\": [4, 5]})"
   ]
  },
  {
   "cell_type": "code",
   "execution_count": 9,
   "id": "9eae60b5-47f9-4e63-a017-96659e37e4f3",
   "metadata": {
    "execution": {
     "iopub.execute_input": "2023-06-01T09:01:47.091296Z",
     "iopub.status.busy": "2023-06-01T09:01:47.091296Z",
     "iopub.status.idle": "2023-06-01T09:01:47.095785Z",
     "shell.execute_reply": "2023-06-01T09:01:47.095785Z",
     "shell.execute_reply.started": "2023-06-01T09:01:47.091296Z"
    }
   },
   "outputs": [
    {
     "data": {
      "text/html": [
       "<div>\n",
       "<style scoped>\n",
       "    .dataframe tbody tr th:only-of-type {\n",
       "        vertical-align: middle;\n",
       "    }\n",
       "\n",
       "    .dataframe tbody tr th {\n",
       "        vertical-align: top;\n",
       "    }\n",
       "\n",
       "    .dataframe thead th {\n",
       "        text-align: right;\n",
       "    }\n",
       "</style>\n",
       "<table border=\"1\" class=\"dataframe\">\n",
       "  <thead>\n",
       "    <tr style=\"text-align: right;\">\n",
       "      <th></th>\n",
       "      <th>key</th>\n",
       "      <th>lval</th>\n",
       "    </tr>\n",
       "  </thead>\n",
       "  <tbody>\n",
       "    <tr>\n",
       "      <th>0</th>\n",
       "      <td>foo</td>\n",
       "      <td>1</td>\n",
       "    </tr>\n",
       "    <tr>\n",
       "      <th>1</th>\n",
       "      <td>foo</td>\n",
       "      <td>2</td>\n",
       "    </tr>\n",
       "  </tbody>\n",
       "</table>\n",
       "</div>"
      ],
      "text/plain": [
       "   key  lval\n",
       "0  foo     1\n",
       "1  foo     2"
      ]
     },
     "execution_count": 9,
     "metadata": {},
     "output_type": "execute_result"
    }
   ],
   "source": [
    "left "
   ]
  },
  {
   "cell_type": "code",
   "execution_count": 10,
   "id": "4c83f9b1-673e-4769-9fd0-d4862b60b932",
   "metadata": {
    "execution": {
     "iopub.execute_input": "2023-06-01T09:01:50.292228Z",
     "iopub.status.busy": "2023-06-01T09:01:50.290204Z",
     "iopub.status.idle": "2023-06-01T09:01:50.296239Z",
     "shell.execute_reply": "2023-06-01T09:01:50.296239Z",
     "shell.execute_reply.started": "2023-06-01T09:01:50.292228Z"
    }
   },
   "outputs": [
    {
     "data": {
      "text/html": [
       "<div>\n",
       "<style scoped>\n",
       "    .dataframe tbody tr th:only-of-type {\n",
       "        vertical-align: middle;\n",
       "    }\n",
       "\n",
       "    .dataframe tbody tr th {\n",
       "        vertical-align: top;\n",
       "    }\n",
       "\n",
       "    .dataframe thead th {\n",
       "        text-align: right;\n",
       "    }\n",
       "</style>\n",
       "<table border=\"1\" class=\"dataframe\">\n",
       "  <thead>\n",
       "    <tr style=\"text-align: right;\">\n",
       "      <th></th>\n",
       "      <th>key</th>\n",
       "      <th>rval</th>\n",
       "    </tr>\n",
       "  </thead>\n",
       "  <tbody>\n",
       "    <tr>\n",
       "      <th>0</th>\n",
       "      <td>foo</td>\n",
       "      <td>4</td>\n",
       "    </tr>\n",
       "    <tr>\n",
       "      <th>1</th>\n",
       "      <td>foo</td>\n",
       "      <td>5</td>\n",
       "    </tr>\n",
       "  </tbody>\n",
       "</table>\n",
       "</div>"
      ],
      "text/plain": [
       "   key  rval\n",
       "0  foo     4\n",
       "1  foo     5"
      ]
     },
     "execution_count": 10,
     "metadata": {},
     "output_type": "execute_result"
    }
   ],
   "source": [
    "right"
   ]
  },
  {
   "cell_type": "code",
   "execution_count": 17,
   "id": "eacf4d64-e6a5-4136-8ed2-97654a5f72d6",
   "metadata": {
    "execution": {
     "iopub.execute_input": "2023-06-01T09:06:59.459446Z",
     "iopub.status.busy": "2023-06-01T09:06:59.459446Z",
     "iopub.status.idle": "2023-06-01T09:06:59.465346Z",
     "shell.execute_reply": "2023-06-01T09:06:59.465346Z",
     "shell.execute_reply.started": "2023-06-01T09:06:59.459446Z"
    }
   },
   "outputs": [
    {
     "data": {
      "text/html": [
       "<div>\n",
       "<style scoped>\n",
       "    .dataframe tbody tr th:only-of-type {\n",
       "        vertical-align: middle;\n",
       "    }\n",
       "\n",
       "    .dataframe tbody tr th {\n",
       "        vertical-align: top;\n",
       "    }\n",
       "\n",
       "    .dataframe thead th {\n",
       "        text-align: right;\n",
       "    }\n",
       "</style>\n",
       "<table border=\"1\" class=\"dataframe\">\n",
       "  <thead>\n",
       "    <tr style=\"text-align: right;\">\n",
       "      <th></th>\n",
       "      <th>key</th>\n",
       "      <th>lval</th>\n",
       "      <th>rval</th>\n",
       "    </tr>\n",
       "  </thead>\n",
       "  <tbody>\n",
       "    <tr>\n",
       "      <th>0</th>\n",
       "      <td>foo</td>\n",
       "      <td>1</td>\n",
       "      <td>4</td>\n",
       "    </tr>\n",
       "    <tr>\n",
       "      <th>1</th>\n",
       "      <td>foo</td>\n",
       "      <td>1</td>\n",
       "      <td>5</td>\n",
       "    </tr>\n",
       "    <tr>\n",
       "      <th>2</th>\n",
       "      <td>foo</td>\n",
       "      <td>2</td>\n",
       "      <td>4</td>\n",
       "    </tr>\n",
       "    <tr>\n",
       "      <th>3</th>\n",
       "      <td>foo</td>\n",
       "      <td>2</td>\n",
       "      <td>5</td>\n",
       "    </tr>\n",
       "  </tbody>\n",
       "</table>\n",
       "</div>"
      ],
      "text/plain": [
       "   key  lval  rval\n",
       "0  foo     1     4\n",
       "1  foo     1     5\n",
       "2  foo     2     4\n",
       "3  foo     2     5"
      ]
     },
     "execution_count": 17,
     "metadata": {},
     "output_type": "execute_result"
    }
   ],
   "source": [
    "# Using Merge to combine two DFs\n",
    "pd.merge(left, right, on=\"key\")"
   ]
  },
  {
   "cell_type": "code",
   "execution_count": 18,
   "id": "62e3b0c3-51d9-438d-ad5c-7a6ce7cba6af",
   "metadata": {
    "execution": {
     "iopub.execute_input": "2023-06-01T09:18:06.479858Z",
     "iopub.status.busy": "2023-06-01T09:18:06.479858Z",
     "iopub.status.idle": "2023-06-01T09:18:06.485782Z",
     "shell.execute_reply": "2023-06-01T09:18:06.485782Z",
     "shell.execute_reply.started": "2023-06-01T09:18:06.479858Z"
    }
   },
   "outputs": [],
   "source": [
    "df3 = pd.DataFrame(\n",
    "    {\n",
    "        \"A\": [\"foo\", \"bar\", \"foo\", \"bar\", \"foo\", \"bar\", \"foo\", \"foo\"],\n",
    "        \"B\": [\"one\", \"one\", \"two\", \"three\", \"two\", \"two\", \"one\", \"three\"],\n",
    "        \"C\": np.random.randn(8),\n",
    "        \"D\": np.random.randn(8),\n",
    "    }\n",
    ")"
   ]
  },
  {
   "cell_type": "code",
   "execution_count": 19,
   "id": "a12f087b-8fb1-4e5f-96db-a3afae7b92d2",
   "metadata": {
    "execution": {
     "iopub.execute_input": "2023-06-01T09:18:08.262165Z",
     "iopub.status.busy": "2023-06-01T09:18:08.262165Z",
     "iopub.status.idle": "2023-06-01T09:18:08.270718Z",
     "shell.execute_reply": "2023-06-01T09:18:08.270718Z",
     "shell.execute_reply.started": "2023-06-01T09:18:08.262165Z"
    }
   },
   "outputs": [
    {
     "data": {
      "text/html": [
       "<div>\n",
       "<style scoped>\n",
       "    .dataframe tbody tr th:only-of-type {\n",
       "        vertical-align: middle;\n",
       "    }\n",
       "\n",
       "    .dataframe tbody tr th {\n",
       "        vertical-align: top;\n",
       "    }\n",
       "\n",
       "    .dataframe thead th {\n",
       "        text-align: right;\n",
       "    }\n",
       "</style>\n",
       "<table border=\"1\" class=\"dataframe\">\n",
       "  <thead>\n",
       "    <tr style=\"text-align: right;\">\n",
       "      <th></th>\n",
       "      <th>A</th>\n",
       "      <th>B</th>\n",
       "      <th>C</th>\n",
       "      <th>D</th>\n",
       "    </tr>\n",
       "  </thead>\n",
       "  <tbody>\n",
       "    <tr>\n",
       "      <th>0</th>\n",
       "      <td>foo</td>\n",
       "      <td>one</td>\n",
       "      <td>-0.085627</td>\n",
       "      <td>1.075858</td>\n",
       "    </tr>\n",
       "    <tr>\n",
       "      <th>1</th>\n",
       "      <td>bar</td>\n",
       "      <td>one</td>\n",
       "      <td>0.734029</td>\n",
       "      <td>1.700894</td>\n",
       "    </tr>\n",
       "    <tr>\n",
       "      <th>2</th>\n",
       "      <td>foo</td>\n",
       "      <td>two</td>\n",
       "      <td>-1.221770</td>\n",
       "      <td>0.313838</td>\n",
       "    </tr>\n",
       "    <tr>\n",
       "      <th>3</th>\n",
       "      <td>bar</td>\n",
       "      <td>three</td>\n",
       "      <td>1.801754</td>\n",
       "      <td>-0.694676</td>\n",
       "    </tr>\n",
       "    <tr>\n",
       "      <th>4</th>\n",
       "      <td>foo</td>\n",
       "      <td>two</td>\n",
       "      <td>-1.191629</td>\n",
       "      <td>-0.052560</td>\n",
       "    </tr>\n",
       "    <tr>\n",
       "      <th>5</th>\n",
       "      <td>bar</td>\n",
       "      <td>two</td>\n",
       "      <td>-0.170459</td>\n",
       "      <td>0.234367</td>\n",
       "    </tr>\n",
       "    <tr>\n",
       "      <th>6</th>\n",
       "      <td>foo</td>\n",
       "      <td>one</td>\n",
       "      <td>0.853801</td>\n",
       "      <td>-0.624564</td>\n",
       "    </tr>\n",
       "    <tr>\n",
       "      <th>7</th>\n",
       "      <td>foo</td>\n",
       "      <td>three</td>\n",
       "      <td>-0.502726</td>\n",
       "      <td>-1.933756</td>\n",
       "    </tr>\n",
       "  </tbody>\n",
       "</table>\n",
       "</div>"
      ],
      "text/plain": [
       "     A      B         C         D\n",
       "0  foo    one -0.085627  1.075858\n",
       "1  bar    one  0.734029  1.700894\n",
       "2  foo    two -1.221770  0.313838\n",
       "3  bar  three  1.801754 -0.694676\n",
       "4  foo    two -1.191629 -0.052560\n",
       "5  bar    two -0.170459  0.234367\n",
       "6  foo    one  0.853801 -0.624564\n",
       "7  foo  three -0.502726 -1.933756"
      ]
     },
     "execution_count": 19,
     "metadata": {},
     "output_type": "execute_result"
    }
   ],
   "source": [
    "df3"
   ]
  },
  {
   "cell_type": "code",
   "execution_count": 21,
   "id": "9a327a3e-de1e-4331-af99-44eced032e72",
   "metadata": {
    "execution": {
     "iopub.execute_input": "2023-06-01T09:18:47.273335Z",
     "iopub.status.busy": "2023-06-01T09:18:47.273335Z",
     "iopub.status.idle": "2023-06-01T09:18:47.283366Z",
     "shell.execute_reply": "2023-06-01T09:18:47.283366Z",
     "shell.execute_reply.started": "2023-06-01T09:18:47.273335Z"
    }
   },
   "outputs": [
    {
     "data": {
      "text/html": [
       "<div>\n",
       "<style scoped>\n",
       "    .dataframe tbody tr th:only-of-type {\n",
       "        vertical-align: middle;\n",
       "    }\n",
       "\n",
       "    .dataframe tbody tr th {\n",
       "        vertical-align: top;\n",
       "    }\n",
       "\n",
       "    .dataframe thead th {\n",
       "        text-align: right;\n",
       "    }\n",
       "</style>\n",
       "<table border=\"1\" class=\"dataframe\">\n",
       "  <thead>\n",
       "    <tr style=\"text-align: right;\">\n",
       "      <th></th>\n",
       "      <th>C</th>\n",
       "      <th>D</th>\n",
       "    </tr>\n",
       "    <tr>\n",
       "      <th>A</th>\n",
       "      <th></th>\n",
       "      <th></th>\n",
       "    </tr>\n",
       "  </thead>\n",
       "  <tbody>\n",
       "    <tr>\n",
       "      <th>bar</th>\n",
       "      <td>2.365325</td>\n",
       "      <td>1.240584</td>\n",
       "    </tr>\n",
       "    <tr>\n",
       "      <th>foo</th>\n",
       "      <td>-2.147952</td>\n",
       "      <td>-1.221184</td>\n",
       "    </tr>\n",
       "  </tbody>\n",
       "</table>\n",
       "</div>"
      ],
      "text/plain": [
       "            C         D\n",
       "A                      \n",
       "bar  2.365325  1.240584\n",
       "foo -2.147952 -1.221184"
      ]
     },
     "execution_count": 21,
     "metadata": {},
     "output_type": "execute_result"
    }
   ],
   "source": [
    "# Grouping DFs\n",
    "\n",
    "df3.groupby(\"A\")[[\"C\", \"D\"]].sum()"
   ]
  },
  {
   "cell_type": "code",
   "execution_count": 22,
   "id": "3c03197e-f598-4ef4-824a-22b1825e3ed0",
   "metadata": {
    "execution": {
     "iopub.execute_input": "2023-06-01T09:19:47.265302Z",
     "iopub.status.busy": "2023-06-01T09:19:47.265302Z",
     "iopub.status.idle": "2023-06-01T09:19:47.278076Z",
     "shell.execute_reply": "2023-06-01T09:19:47.278076Z",
     "shell.execute_reply.started": "2023-06-01T09:19:47.265302Z"
    }
   },
   "outputs": [
    {
     "data": {
      "text/html": [
       "<div>\n",
       "<style scoped>\n",
       "    .dataframe tbody tr th:only-of-type {\n",
       "        vertical-align: middle;\n",
       "    }\n",
       "\n",
       "    .dataframe tbody tr th {\n",
       "        vertical-align: top;\n",
       "    }\n",
       "\n",
       "    .dataframe thead th {\n",
       "        text-align: right;\n",
       "    }\n",
       "</style>\n",
       "<table border=\"1\" class=\"dataframe\">\n",
       "  <thead>\n",
       "    <tr style=\"text-align: right;\">\n",
       "      <th></th>\n",
       "      <th></th>\n",
       "      <th>C</th>\n",
       "      <th>D</th>\n",
       "    </tr>\n",
       "    <tr>\n",
       "      <th>A</th>\n",
       "      <th>B</th>\n",
       "      <th></th>\n",
       "      <th></th>\n",
       "    </tr>\n",
       "  </thead>\n",
       "  <tbody>\n",
       "    <tr>\n",
       "      <th rowspan=\"3\" valign=\"top\">bar</th>\n",
       "      <th>one</th>\n",
       "      <td>0.734029</td>\n",
       "      <td>1.700894</td>\n",
       "    </tr>\n",
       "    <tr>\n",
       "      <th>three</th>\n",
       "      <td>1.801754</td>\n",
       "      <td>-0.694676</td>\n",
       "    </tr>\n",
       "    <tr>\n",
       "      <th>two</th>\n",
       "      <td>-0.170459</td>\n",
       "      <td>0.234367</td>\n",
       "    </tr>\n",
       "    <tr>\n",
       "      <th rowspan=\"3\" valign=\"top\">foo</th>\n",
       "      <th>one</th>\n",
       "      <td>0.768173</td>\n",
       "      <td>0.451295</td>\n",
       "    </tr>\n",
       "    <tr>\n",
       "      <th>three</th>\n",
       "      <td>-0.502726</td>\n",
       "      <td>-1.933756</td>\n",
       "    </tr>\n",
       "    <tr>\n",
       "      <th>two</th>\n",
       "      <td>-2.413399</td>\n",
       "      <td>0.261278</td>\n",
       "    </tr>\n",
       "  </tbody>\n",
       "</table>\n",
       "</div>"
      ],
      "text/plain": [
       "                  C         D\n",
       "A   B                        \n",
       "bar one    0.734029  1.700894\n",
       "    three  1.801754 -0.694676\n",
       "    two   -0.170459  0.234367\n",
       "foo one    0.768173  0.451295\n",
       "    three -0.502726 -1.933756\n",
       "    two   -2.413399  0.261278"
      ]
     },
     "execution_count": 22,
     "metadata": {},
     "output_type": "execute_result"
    }
   ],
   "source": [
    "df3.groupby([\"A\", \"B\"]).sum()"
   ]
  },
  {
   "cell_type": "code",
   "execution_count": 23,
   "id": "b820fe3e-9ead-49ce-ac97-31b295f8f492",
   "metadata": {
    "execution": {
     "iopub.execute_input": "2023-06-01T09:23:01.197550Z",
     "iopub.status.busy": "2023-06-01T09:23:01.197550Z",
     "iopub.status.idle": "2023-06-01T09:23:01.201473Z",
     "shell.execute_reply": "2023-06-01T09:23:01.201473Z",
     "shell.execute_reply.started": "2023-06-01T09:23:01.197550Z"
    }
   },
   "outputs": [],
   "source": [
    "# Reshaping Stack\n",
    "\n",
    "tuples = list(\n",
    "    zip(\n",
    "        [\"bar\", \"bar\", \"baz\", \"baz\", \"foo\", \"foo\", \"qux\", \"qux\"],\n",
    "        [\"one\", \"two\", \"one\", \"two\", \"one\", \"two\", \"one\", \"two\"],\n",
    "    )\n",
    ")"
   ]
  },
  {
   "cell_type": "code",
   "execution_count": 24,
   "id": "0f711cdb-6cae-4900-906b-39e54f2910ff",
   "metadata": {
    "execution": {
     "iopub.execute_input": "2023-06-01T09:23:05.765385Z",
     "iopub.status.busy": "2023-06-01T09:23:05.765385Z",
     "iopub.status.idle": "2023-06-01T09:23:05.770070Z",
     "shell.execute_reply": "2023-06-01T09:23:05.770070Z",
     "shell.execute_reply.started": "2023-06-01T09:23:05.765385Z"
    }
   },
   "outputs": [
    {
     "data": {
      "text/plain": [
       "[('bar', 'one'),\n",
       " ('bar', 'two'),\n",
       " ('baz', 'one'),\n",
       " ('baz', 'two'),\n",
       " ('foo', 'one'),\n",
       " ('foo', 'two'),\n",
       " ('qux', 'one'),\n",
       " ('qux', 'two')]"
      ]
     },
     "execution_count": 24,
     "metadata": {},
     "output_type": "execute_result"
    }
   ],
   "source": [
    "tuples"
   ]
  },
  {
   "cell_type": "code",
   "execution_count": 25,
   "id": "c4de18cb-b068-402b-ae70-b958b43dbb62",
   "metadata": {
    "execution": {
     "iopub.execute_input": "2023-06-01T09:23:12.265366Z",
     "iopub.status.busy": "2023-06-01T09:23:12.265366Z",
     "iopub.status.idle": "2023-06-01T09:23:12.275395Z",
     "shell.execute_reply": "2023-06-01T09:23:12.275395Z",
     "shell.execute_reply.started": "2023-06-01T09:23:12.265366Z"
    }
   },
   "outputs": [],
   "source": [
    "index = pd.MultiIndex.from_tuples(tuples, names=[\"first\", \"second\"])"
   ]
  },
  {
   "cell_type": "code",
   "execution_count": 27,
   "id": "46701603-96de-45d0-8f91-be5f321566a0",
   "metadata": {
    "execution": {
     "iopub.execute_input": "2023-06-01T09:23:32.377555Z",
     "iopub.status.busy": "2023-06-01T09:23:32.377555Z",
     "iopub.status.idle": "2023-06-01T09:23:32.387402Z",
     "shell.execute_reply": "2023-06-01T09:23:32.387402Z",
     "shell.execute_reply.started": "2023-06-01T09:23:32.377555Z"
    }
   },
   "outputs": [],
   "source": [
    "df4 = pd.DataFrame(np.random.randn(8, 2), index=index, columns=[\"A\", \"B\"])"
   ]
  },
  {
   "cell_type": "code",
   "execution_count": 29,
   "id": "55c9e8f6-e3ab-484e-a394-4626fc72d6ef",
   "metadata": {
    "execution": {
     "iopub.execute_input": "2023-06-01T09:23:55.855353Z",
     "iopub.status.busy": "2023-06-01T09:23:55.855353Z",
     "iopub.status.idle": "2023-06-01T09:23:55.861004Z",
     "shell.execute_reply": "2023-06-01T09:23:55.861004Z",
     "shell.execute_reply.started": "2023-06-01T09:23:55.855353Z"
    }
   },
   "outputs": [],
   "source": [
    "df5 = df4[:4]"
   ]
  },
  {
   "cell_type": "code",
   "execution_count": 30,
   "id": "d0e13622-5ee2-4586-a2a8-929591a7300b",
   "metadata": {
    "execution": {
     "iopub.execute_input": "2023-06-01T09:24:00.460894Z",
     "iopub.status.busy": "2023-06-01T09:24:00.460894Z",
     "iopub.status.idle": "2023-06-01T09:24:00.466965Z",
     "shell.execute_reply": "2023-06-01T09:24:00.466965Z",
     "shell.execute_reply.started": "2023-06-01T09:24:00.460894Z"
    }
   },
   "outputs": [
    {
     "data": {
      "text/html": [
       "<div>\n",
       "<style scoped>\n",
       "    .dataframe tbody tr th:only-of-type {\n",
       "        vertical-align: middle;\n",
       "    }\n",
       "\n",
       "    .dataframe tbody tr th {\n",
       "        vertical-align: top;\n",
       "    }\n",
       "\n",
       "    .dataframe thead th {\n",
       "        text-align: right;\n",
       "    }\n",
       "</style>\n",
       "<table border=\"1\" class=\"dataframe\">\n",
       "  <thead>\n",
       "    <tr style=\"text-align: right;\">\n",
       "      <th></th>\n",
       "      <th></th>\n",
       "      <th>A</th>\n",
       "      <th>B</th>\n",
       "    </tr>\n",
       "    <tr>\n",
       "      <th>first</th>\n",
       "      <th>second</th>\n",
       "      <th></th>\n",
       "      <th></th>\n",
       "    </tr>\n",
       "  </thead>\n",
       "  <tbody>\n",
       "    <tr>\n",
       "      <th rowspan=\"2\" valign=\"top\">bar</th>\n",
       "      <th>one</th>\n",
       "      <td>-0.828501</td>\n",
       "      <td>0.865223</td>\n",
       "    </tr>\n",
       "    <tr>\n",
       "      <th>two</th>\n",
       "      <td>-0.192661</td>\n",
       "      <td>0.586904</td>\n",
       "    </tr>\n",
       "    <tr>\n",
       "      <th rowspan=\"2\" valign=\"top\">baz</th>\n",
       "      <th>one</th>\n",
       "      <td>0.904974</td>\n",
       "      <td>-1.280054</td>\n",
       "    </tr>\n",
       "    <tr>\n",
       "      <th>two</th>\n",
       "      <td>-1.354303</td>\n",
       "      <td>-0.323379</td>\n",
       "    </tr>\n",
       "  </tbody>\n",
       "</table>\n",
       "</div>"
      ],
      "text/plain": [
       "                     A         B\n",
       "first second                    \n",
       "bar   one    -0.828501  0.865223\n",
       "      two    -0.192661  0.586904\n",
       "baz   one     0.904974 -1.280054\n",
       "      two    -1.354303 -0.323379"
      ]
     },
     "execution_count": 30,
     "metadata": {},
     "output_type": "execute_result"
    }
   ],
   "source": [
    "df5"
   ]
  },
  {
   "cell_type": "code",
   "execution_count": null,
   "id": "b1f1f980-7deb-47a8-87c7-816868cc516c",
   "metadata": {},
   "outputs": [],
   "source": []
  }
 ],
 "metadata": {
  "kernelspec": {
   "display_name": "Python 3 (ipykernel)",
   "language": "python",
   "name": "python3"
  },
  "language_info": {
   "codemirror_mode": {
    "name": "ipython",
    "version": 3
   },
   "file_extension": ".py",
   "mimetype": "text/x-python",
   "name": "python",
   "nbconvert_exporter": "python",
   "pygments_lexer": "ipython3",
   "version": "3.11.3"
  }
 },
 "nbformat": 4,
 "nbformat_minor": 5
}
